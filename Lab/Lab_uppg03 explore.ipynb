{
 "cells": [
  {
   "cell_type": "markdown",
   "metadata": {},
   "source": [
    "# 3"
   ]
  },
  {
   "cell_type": "markdown",
   "metadata": {},
   "source": [
    "Vaccination över tid i riket uppdelat på dos"
   ]
  },
  {
   "cell_type": "markdown",
   "metadata": {},
   "source": [
    "Strategi: \n",
    "- läsa in alla DataFrames\n",
    "- separera minst dos 1 och minst dos 2 i olika DataFrames, resterande är redan separerade\n",
    "- plocka ut endast rader för Sverige från varje DataFrame\n",
    "- slå ihop tidskolumnerna \n",
    "- lägga ihop data för dos 1, dos2, dos 3, dos 4, dos 5 i samma DataFrame\n",
    "- göra om tidsräkningen där v52 2020 sätts som 0\n",
    "- plotta"
   ]
  },
  {
   "cell_type": "code",
   "execution_count": 1,
   "metadata": {},
   "outputs": [
    {
     "data": {
      "text/html": [
       "<div>\n",
       "<style scoped>\n",
       "    .dataframe tbody tr th:only-of-type {\n",
       "        vertical-align: middle;\n",
       "    }\n",
       "\n",
       "    .dataframe tbody tr th {\n",
       "        vertical-align: top;\n",
       "    }\n",
       "\n",
       "    .dataframe thead th {\n",
       "        text-align: right;\n",
       "    }\n",
       "</style>\n",
       "<table border=\"1\" class=\"dataframe\">\n",
       "  <thead>\n",
       "    <tr style=\"text-align: right;\">\n",
       "      <th></th>\n",
       "      <th>Vecka</th>\n",
       "      <th>År</th>\n",
       "      <th>Region</th>\n",
       "      <th>Antal vaccinerade</th>\n",
       "      <th>Andel vaccinerade</th>\n",
       "      <th>Vaccinationsstatus</th>\n",
       "    </tr>\n",
       "  </thead>\n",
       "  <tbody>\n",
       "    <tr>\n",
       "      <th>0</th>\n",
       "      <td>52</td>\n",
       "      <td>2020</td>\n",
       "      <td>| Sverige |</td>\n",
       "      <td>1639</td>\n",
       "      <td>0.000180</td>\n",
       "      <td>Minst 1 dos</td>\n",
       "    </tr>\n",
       "    <tr>\n",
       "      <th>1</th>\n",
       "      <td>52</td>\n",
       "      <td>2020</td>\n",
       "      <td>| Sverige |</td>\n",
       "      <td>0</td>\n",
       "      <td>0.000000</td>\n",
       "      <td>Minst 2 doser</td>\n",
       "    </tr>\n",
       "    <tr>\n",
       "      <th>2</th>\n",
       "      <td>52</td>\n",
       "      <td>2020</td>\n",
       "      <td>Stockholm</td>\n",
       "      <td>201</td>\n",
       "      <td>0.000096</td>\n",
       "      <td>Minst 1 dos</td>\n",
       "    </tr>\n",
       "    <tr>\n",
       "      <th>3</th>\n",
       "      <td>52</td>\n",
       "      <td>2020</td>\n",
       "      <td>Stockholm</td>\n",
       "      <td>0</td>\n",
       "      <td>0.000000</td>\n",
       "      <td>Minst 2 doser</td>\n",
       "    </tr>\n",
       "    <tr>\n",
       "      <th>4</th>\n",
       "      <td>52</td>\n",
       "      <td>2020</td>\n",
       "      <td>Uppsala</td>\n",
       "      <td>5</td>\n",
       "      <td>0.000015</td>\n",
       "      <td>Minst 1 dos</td>\n",
       "    </tr>\n",
       "  </tbody>\n",
       "</table>\n",
       "</div>"
      ],
      "text/plain": [
       "   Vecka    År       Region  Antal vaccinerade  Andel vaccinerade  \\\n",
       "0     52  2020  | Sverige |               1639           0.000180   \n",
       "1     52  2020  | Sverige |                  0           0.000000   \n",
       "2     52  2020    Stockholm                201           0.000096   \n",
       "3     52  2020    Stockholm                  0           0.000000   \n",
       "4     52  2020      Uppsala                  5           0.000015   \n",
       "\n",
       "  Vaccinationsstatus  \n",
       "0        Minst 1 dos  \n",
       "1      Minst 2 doser  \n",
       "2        Minst 1 dos  \n",
       "3      Minst 2 doser  \n",
       "4        Minst 1 dos  "
      ]
     },
     "execution_count": 1,
     "metadata": {},
     "output_type": "execute_result"
    }
   ],
   "source": [
    "import pandas as pd\n",
    "\n",
    "# readin in relevant sheets into separate DataFrames\n",
    "path = \"../Lab/Data/vaccin.xlsx\"\n",
    "df_1_2 = pd.read_excel(path, sheet_name=\"Vaccinerade tidsserie\")\n",
    "df_3 = pd.read_excel(path, sheet_name=\"Vaccinerade tidsserie dos 3\") # ???????? hur automatisera inläsning\n",
    "df_4 = pd.read_excel(path, sheet_name=\"Vaccinerade tidsserie dos 4\")\n",
    "df_5 = pd.read_excel(path, sheet_name=\"Vaccinerade tidsserie dos 5\")\n",
    "df_1_2.head()"
   ]
  },
  {
   "cell_type": "code",
   "execution_count": 2,
   "metadata": {},
   "outputs": [
    {
     "data": {
      "text/html": [
       "<div>\n",
       "<style scoped>\n",
       "    .dataframe tbody tr th:only-of-type {\n",
       "        vertical-align: middle;\n",
       "    }\n",
       "\n",
       "    .dataframe tbody tr th {\n",
       "        vertical-align: top;\n",
       "    }\n",
       "\n",
       "    .dataframe thead th {\n",
       "        text-align: right;\n",
       "    }\n",
       "</style>\n",
       "<table border=\"1\" class=\"dataframe\">\n",
       "  <thead>\n",
       "    <tr style=\"text-align: right;\">\n",
       "      <th></th>\n",
       "      <th>Vecka</th>\n",
       "      <th>År</th>\n",
       "      <th>Region</th>\n",
       "      <th>Antal vaccinerade</th>\n",
       "      <th>Andel vaccinerade</th>\n",
       "      <th>Vaccinationsstatus</th>\n",
       "    </tr>\n",
       "  </thead>\n",
       "  <tbody>\n",
       "    <tr>\n",
       "      <th>1</th>\n",
       "      <td>52</td>\n",
       "      <td>2020</td>\n",
       "      <td>| Sverige |</td>\n",
       "      <td>0</td>\n",
       "      <td>0.0</td>\n",
       "      <td>Minst 2 doser</td>\n",
       "    </tr>\n",
       "    <tr>\n",
       "      <th>3</th>\n",
       "      <td>52</td>\n",
       "      <td>2020</td>\n",
       "      <td>Stockholm</td>\n",
       "      <td>0</td>\n",
       "      <td>0.0</td>\n",
       "      <td>Minst 2 doser</td>\n",
       "    </tr>\n",
       "    <tr>\n",
       "      <th>5</th>\n",
       "      <td>52</td>\n",
       "      <td>2020</td>\n",
       "      <td>Uppsala</td>\n",
       "      <td>0</td>\n",
       "      <td>0.0</td>\n",
       "      <td>Minst 2 doser</td>\n",
       "    </tr>\n",
       "    <tr>\n",
       "      <th>7</th>\n",
       "      <td>52</td>\n",
       "      <td>2020</td>\n",
       "      <td>Södermanland</td>\n",
       "      <td>0</td>\n",
       "      <td>0.0</td>\n",
       "      <td>Minst 2 doser</td>\n",
       "    </tr>\n",
       "    <tr>\n",
       "      <th>9</th>\n",
       "      <td>52</td>\n",
       "      <td>2020</td>\n",
       "      <td>Östergötland</td>\n",
       "      <td>0</td>\n",
       "      <td>0.0</td>\n",
       "      <td>Minst 2 doser</td>\n",
       "    </tr>\n",
       "  </tbody>\n",
       "</table>\n",
       "</div>"
      ],
      "text/plain": [
       "   Vecka    År        Region  Antal vaccinerade  Andel vaccinerade  \\\n",
       "1     52  2020   | Sverige |                  0                0.0   \n",
       "3     52  2020     Stockholm                  0                0.0   \n",
       "5     52  2020       Uppsala                  0                0.0   \n",
       "7     52  2020  Södermanland                  0                0.0   \n",
       "9     52  2020  Östergötland                  0                0.0   \n",
       "\n",
       "  Vaccinationsstatus  \n",
       "1      Minst 2 doser  \n",
       "3      Minst 2 doser  \n",
       "5      Minst 2 doser  \n",
       "7      Minst 2 doser  \n",
       "9      Minst 2 doser  "
      ]
     },
     "execution_count": 2,
     "metadata": {},
     "output_type": "execute_result"
    }
   ],
   "source": [
    "# devide df_1_2 into separate dataframes for Minst 1 dos och Minst 2 doser\n",
    "df_1 = pd.DataFrame(df_1_2[df_1_2[\"Vaccinationsstatus\"].str.contains(\"1\")]) #??? måste jag göra om til DF manuellt????\n",
    "df_2 = pd.DataFrame(df_1_2[df_1_2[\"Vaccinationsstatus\"].str.contains(\"2\")])\n",
    "df_2.head()"
   ]
  },
  {
   "cell_type": "code",
   "execution_count": 3,
   "metadata": {},
   "outputs": [],
   "source": [
    "# funkar men den nya df sparas inte någonstans så kan inte anropa df utan måste anropa df_list[index i listan]\n",
    "#\n",
    "# df_list = [df_1, df_2, df_3, df_4, df_5]\n",
    "# for df in df_list:\n",
    "    #df = df[df[\"Region\"].str.contains(\"Sverige\")]\n",
    "    \n",
    "# df_list[4]"
   ]
  },
  {
   "cell_type": "code",
   "execution_count": 4,
   "metadata": {},
   "outputs": [],
   "source": [
    "def clean(df):\n",
    "    df = df[df[\"Region\"].str.contains(\"Sverige\")]                               # add comment\n",
    "    df[\"År_v\"] = df[\"År\"].astype(str) + \"v\" + df[\"Vecka\"].astype(str)           # combine colls Vecka and År to new column\n",
    "    df = df.set_index(\"År_v\")                                                   # set År_v col as index to prepare concatination\n",
    "    df = df.rename(columns={\"Antal vaccinerade\": df[\"Vaccinationsstatus\"][0]}) # rename column Antal vaccinerade with values for Vaccinationsstatus\n",
    "    return df\n"
   ]
  },
  {
   "cell_type": "code",
   "execution_count": 5,
   "metadata": {},
   "outputs": [],
   "source": [
    "#df_1_5 = pd.concat((clean(df) for df in [df_1, df_2, df_3, df_4, df_5]), axis = \"columns\")"
   ]
  },
  {
   "cell_type": "code",
   "execution_count": 7,
   "metadata": {},
   "outputs": [
    {
     "name": "stderr",
     "output_type": "stream",
     "text": [
      "C:\\Users\\DorotaBjöörn-AI22GBG\\AppData\\Local\\Temp\\ipykernel_2376\\839915847.py:3: SettingWithCopyWarning: \n",
      "A value is trying to be set on a copy of a slice from a DataFrame.\n",
      "Try using .loc[row_indexer,col_indexer] = value instead\n",
      "\n",
      "See the caveats in the documentation: https://pandas.pydata.org/pandas-docs/stable/user_guide/indexing.html#returning-a-view-versus-a-copy\n",
      "  df[\"År_v\"] = df[\"År\"].astype(str) + \"v\" + df[\"Vecka\"].astype(str)           # combine colls Vecka and År to new column\n",
      "C:\\Users\\DorotaBjöörn-AI22GBG\\AppData\\Local\\Temp\\ipykernel_2376\\839915847.py:3: SettingWithCopyWarning: \n",
      "A value is trying to be set on a copy of a slice from a DataFrame.\n",
      "Try using .loc[row_indexer,col_indexer] = value instead\n",
      "\n",
      "See the caveats in the documentation: https://pandas.pydata.org/pandas-docs/stable/user_guide/indexing.html#returning-a-view-versus-a-copy\n",
      "  df[\"År_v\"] = df[\"År\"].astype(str) + \"v\" + df[\"Vecka\"].astype(str)           # combine colls Vecka and År to new column\n",
      "C:\\Users\\DorotaBjöörn-AI22GBG\\AppData\\Local\\Temp\\ipykernel_2376\\839915847.py:3: SettingWithCopyWarning: \n",
      "A value is trying to be set on a copy of a slice from a DataFrame.\n",
      "Try using .loc[row_indexer,col_indexer] = value instead\n",
      "\n",
      "See the caveats in the documentation: https://pandas.pydata.org/pandas-docs/stable/user_guide/indexing.html#returning-a-view-versus-a-copy\n",
      "  df[\"År_v\"] = df[\"År\"].astype(str) + \"v\" + df[\"Vecka\"].astype(str)           # combine colls Vecka and År to new column\n",
      "C:\\Users\\DorotaBjöörn-AI22GBG\\AppData\\Local\\Temp\\ipykernel_2376\\839915847.py:3: SettingWithCopyWarning: \n",
      "A value is trying to be set on a copy of a slice from a DataFrame.\n",
      "Try using .loc[row_indexer,col_indexer] = value instead\n",
      "\n",
      "See the caveats in the documentation: https://pandas.pydata.org/pandas-docs/stable/user_guide/indexing.html#returning-a-view-versus-a-copy\n",
      "  df[\"År_v\"] = df[\"År\"].astype(str) + \"v\" + df[\"Vecka\"].astype(str)           # combine colls Vecka and År to new column\n",
      "C:\\Users\\DorotaBjöörn-AI22GBG\\AppData\\Local\\Temp\\ipykernel_2376\\839915847.py:3: SettingWithCopyWarning: \n",
      "A value is trying to be set on a copy of a slice from a DataFrame.\n",
      "Try using .loc[row_indexer,col_indexer] = value instead\n",
      "\n",
      "See the caveats in the documentation: https://pandas.pydata.org/pandas-docs/stable/user_guide/indexing.html#returning-a-view-versus-a-copy\n",
      "  df[\"År_v\"] = df[\"År\"].astype(str) + \"v\" + df[\"Vecka\"].astype(str)           # combine colls Vecka and År to new column\n"
     ]
    },
    {
     "data": {
      "text/plain": [
       "Index(['Vecka', 'År', 'Region', 'Minst 1 dos', 'Andel vaccinerade',\n",
       "       'Vaccinationsstatus', 'Vecka', 'År', 'Region', 'Minst 2 doser',\n",
       "       'Andel vaccinerade', 'Vaccinationsstatus', 'Vecka', 'År', 'Region',\n",
       "       '3 doser', 'Andel vaccinerade', 'Vaccinationsstatus', 'Vecka', 'År',\n",
       "       'Region', '4 doser', 'Andel vaccinerade', 'Vaccinationsstatus', 'Vecka',\n",
       "       'År', 'Region', '5 doser', 'Andel vaccinerade', 'Vaccinationsstatus'],\n",
       "      dtype='object')"
      ]
     },
     "execution_count": 7,
     "metadata": {},
     "output_type": "execute_result"
    }
   ],
   "source": [
    "# concatinating all DataFrames into 1 based on col \"År_v\"\n",
    "df_list = [df_1, df_2, df_3, df_4, df_5]\n",
    "df_list = [clean(df) for df in df_list]\n",
    "\n",
    "df_1_5 = pd.concat(df_list, axis = \"columns\")\n",
    "df_1_5.columns"
   ]
  },
  {
   "cell_type": "code",
   "execution_count": 18,
   "metadata": {},
   "outputs": [
    {
     "data": {
      "text/html": [
       "<div>\n",
       "<style scoped>\n",
       "    .dataframe tbody tr th:only-of-type {\n",
       "        vertical-align: middle;\n",
       "    }\n",
       "\n",
       "    .dataframe tbody tr th {\n",
       "        vertical-align: top;\n",
       "    }\n",
       "\n",
       "    .dataframe thead th {\n",
       "        text-align: right;\n",
       "    }\n",
       "</style>\n",
       "<table border=\"1\" class=\"dataframe\">\n",
       "  <thead>\n",
       "    <tr style=\"text-align: right;\">\n",
       "      <th></th>\n",
       "      <th>level_0</th>\n",
       "      <th>Veckor från start</th>\n",
       "      <th>Minst 1 dos</th>\n",
       "      <th>Minst 2 doser</th>\n",
       "      <th>3 doser</th>\n",
       "      <th>4 doser</th>\n",
       "      <th>5 doser</th>\n",
       "      <th>Totalt vaccinerade</th>\n",
       "    </tr>\n",
       "  </thead>\n",
       "  <tbody>\n",
       "    <tr>\n",
       "      <th>0</th>\n",
       "      <td>0</td>\n",
       "      <td>0</td>\n",
       "      <td>1639</td>\n",
       "      <td>0</td>\n",
       "      <td>0.0</td>\n",
       "      <td>0.0</td>\n",
       "      <td>0.0</td>\n",
       "      <td>1639.0</td>\n",
       "    </tr>\n",
       "    <tr>\n",
       "      <th>1</th>\n",
       "      <td>1</td>\n",
       "      <td>1</td>\n",
       "      <td>11446</td>\n",
       "      <td>0</td>\n",
       "      <td>0.0</td>\n",
       "      <td>0.0</td>\n",
       "      <td>0.0</td>\n",
       "      <td>11446.0</td>\n",
       "    </tr>\n",
       "    <tr>\n",
       "      <th>2</th>\n",
       "      <td>2</td>\n",
       "      <td>2</td>\n",
       "      <td>37904</td>\n",
       "      <td>0</td>\n",
       "      <td>0.0</td>\n",
       "      <td>0.0</td>\n",
       "      <td>0.0</td>\n",
       "      <td>37904.0</td>\n",
       "    </tr>\n",
       "    <tr>\n",
       "      <th>3</th>\n",
       "      <td>3</td>\n",
       "      <td>3</td>\n",
       "      <td>104762</td>\n",
       "      <td>68</td>\n",
       "      <td>0.0</td>\n",
       "      <td>0.0</td>\n",
       "      <td>0.0</td>\n",
       "      <td>104830.0</td>\n",
       "    </tr>\n",
       "    <tr>\n",
       "      <th>4</th>\n",
       "      <td>4</td>\n",
       "      <td>4</td>\n",
       "      <td>201575</td>\n",
       "      <td>7995</td>\n",
       "      <td>0.0</td>\n",
       "      <td>0.0</td>\n",
       "      <td>0.0</td>\n",
       "      <td>209570.0</td>\n",
       "    </tr>\n",
       "    <tr>\n",
       "      <th>...</th>\n",
       "      <td>...</td>\n",
       "      <td>...</td>\n",
       "      <td>...</td>\n",
       "      <td>...</td>\n",
       "      <td>...</td>\n",
       "      <td>...</td>\n",
       "      <td>...</td>\n",
       "      <td>...</td>\n",
       "    </tr>\n",
       "    <tr>\n",
       "      <th>91</th>\n",
       "      <td>91</td>\n",
       "      <td>91</td>\n",
       "      <td>7806988</td>\n",
       "      <td>7623561</td>\n",
       "      <td>5509988.0</td>\n",
       "      <td>2078006.0</td>\n",
       "      <td>693794.0</td>\n",
       "      <td>23712337.0</td>\n",
       "    </tr>\n",
       "    <tr>\n",
       "      <th>92</th>\n",
       "      <td>92</td>\n",
       "      <td>92</td>\n",
       "      <td>7808072</td>\n",
       "      <td>7624734</td>\n",
       "      <td>5516559.0</td>\n",
       "      <td>2191428.0</td>\n",
       "      <td>837547.0</td>\n",
       "      <td>23978340.0</td>\n",
       "    </tr>\n",
       "    <tr>\n",
       "      <th>93</th>\n",
       "      <td>93</td>\n",
       "      <td>93</td>\n",
       "      <td>7808932</td>\n",
       "      <td>7625775</td>\n",
       "      <td>5522022.0</td>\n",
       "      <td>2285018.0</td>\n",
       "      <td>942467.0</td>\n",
       "      <td>24184214.0</td>\n",
       "    </tr>\n",
       "    <tr>\n",
       "      <th>94</th>\n",
       "      <td>94</td>\n",
       "      <td>94</td>\n",
       "      <td>7809738</td>\n",
       "      <td>7626723</td>\n",
       "      <td>5527028.0</td>\n",
       "      <td>2363358.0</td>\n",
       "      <td>1024426.0</td>\n",
       "      <td>24351273.0</td>\n",
       "    </tr>\n",
       "    <tr>\n",
       "      <th>95</th>\n",
       "      <td>95</td>\n",
       "      <td>95</td>\n",
       "      <td>7810380</td>\n",
       "      <td>7627588</td>\n",
       "      <td>5531232.0</td>\n",
       "      <td>2427338.0</td>\n",
       "      <td>1084097.0</td>\n",
       "      <td>24480635.0</td>\n",
       "    </tr>\n",
       "  </tbody>\n",
       "</table>\n",
       "<p>96 rows × 8 columns</p>\n",
       "</div>"
      ],
      "text/plain": [
       "    level_0  Veckor från start  Minst 1 dos  Minst 2 doser    3 doser  \\\n",
       "0         0                  0         1639              0        0.0   \n",
       "1         1                  1        11446              0        0.0   \n",
       "2         2                  2        37904              0        0.0   \n",
       "3         3                  3       104762             68        0.0   \n",
       "4         4                  4       201575           7995        0.0   \n",
       "..      ...                ...          ...            ...        ...   \n",
       "91       91                 91      7806988        7623561  5509988.0   \n",
       "92       92                 92      7808072        7624734  5516559.0   \n",
       "93       93                 93      7808932        7625775  5522022.0   \n",
       "94       94                 94      7809738        7626723  5527028.0   \n",
       "95       95                 95      7810380        7627588  5531232.0   \n",
       "\n",
       "      4 doser    5 doser  Totalt vaccinerade  \n",
       "0         0.0        0.0              1639.0  \n",
       "1         0.0        0.0             11446.0  \n",
       "2         0.0        0.0             37904.0  \n",
       "3         0.0        0.0            104830.0  \n",
       "4         0.0        0.0            209570.0  \n",
       "..        ...        ...                 ...  \n",
       "91  2078006.0   693794.0          23712337.0  \n",
       "92  2191428.0   837547.0          23978340.0  \n",
       "93  2285018.0   942467.0          24184214.0  \n",
       "94  2363358.0  1024426.0          24351273.0  \n",
       "95  2427338.0  1084097.0          24480635.0  \n",
       "\n",
       "[96 rows x 8 columns]"
      ]
     },
     "execution_count": 18,
     "metadata": {},
     "output_type": "execute_result"
    }
   ],
   "source": [
    "# selecting relevant columns; replacing NaN with 0\n",
    "# resetting År_v as column, creating column index corresponding to weeks from start\n",
    "# renaming column index\n",
    "\n",
    "col_list = ['Minst 1 dos', 'Minst 2 doser', '3 doser', '4 doser', '5 doser']\n",
    "\n",
    "df_1_5 = df_1_5[col_list].fillna(0).reset_index().reset_index().rename(columns={\"index\": \"Veckor från start\"})\n",
    "\n",
    "df_1_5[\"Totalt vaccinerade\"] = sum(df_1_5[col] for col in col_list)\n",
    "#df_1_5[\"Totalt vaccinerade\"] = sum(df_1_5.iloc[:, 2:6]) detta funkar inte\n",
    "df_1_5"
   ]
  },
  {
   "cell_type": "code",
   "execution_count": 19,
   "metadata": {},
   "outputs": [
    {
     "data": {
      "application/vnd.plotly.v1+json": {
       "config": {
        "plotlyServerURL": "https://plot.ly"
       },
       "data": [
        {
         "hovertemplate": "variable=Minst 1 dos<br>Veckor från start=%{x}<br>Ackumulerat antal vaccinerade=%{y}<extra></extra>",
         "legendgroup": "Minst 1 dos",
         "line": {
          "color": "#636efa",
          "dash": "solid"
         },
         "marker": {
          "symbol": "circle"
         },
         "mode": "lines",
         "name": "Minst 1 dos",
         "orientation": "v",
         "showlegend": true,
         "type": "scatter",
         "x": [
          0,
          1,
          2,
          3,
          4,
          5,
          6,
          7,
          8,
          9,
          10,
          11,
          12,
          13,
          14,
          15,
          16,
          17,
          18,
          19,
          20,
          21,
          22,
          23,
          24,
          25,
          26,
          27,
          28,
          29,
          30,
          31,
          32,
          33,
          34,
          35,
          36,
          37,
          38,
          39,
          40,
          41,
          42,
          43,
          44,
          45,
          46,
          47,
          48,
          49,
          50,
          51,
          52,
          53,
          54,
          55,
          56,
          57,
          58,
          59,
          60,
          61,
          62,
          63,
          64,
          65,
          66,
          67,
          68,
          69,
          70,
          71,
          72,
          73,
          74,
          75,
          76,
          77,
          78,
          79,
          80,
          81,
          82,
          83,
          84,
          85,
          86,
          87,
          88,
          89,
          90,
          91,
          92,
          93,
          94,
          95
         ],
         "xaxis": "x",
         "y": [
          1639,
          11446,
          37904,
          104762,
          201575,
          261830,
          301381,
          344307,
          410031,
          505859,
          652141,
          828172,
          942734,
          1067874,
          1261144,
          1509402,
          1913842,
          2313356,
          2684030,
          3025754,
          3302999,
          3551968,
          3747345,
          3963534,
          4232642,
          4535636,
          4824641,
          5236274,
          5623430,
          5974171,
          6213589,
          6353434,
          6461907,
          6596732,
          6706484,
          6795487,
          6870593,
          6936190,
          6992713,
          7037377,
          7071534,
          7105030,
          7182082,
          7263796,
          7331798,
          7350308,
          7392839,
          7436060,
          7481557,
          7527756,
          7575225,
          7618309,
          7635867,
          7647798,
          7663577,
          7689215,
          7712153,
          7727110,
          7737359,
          7745669,
          7751684,
          7756581,
          7760153,
          7763223,
          7767247,
          7770068,
          7772547,
          7774771,
          7776581,
          7778740,
          7781027,
          7783296,
          7785646,
          7787850,
          7789531,
          7791108,
          7792178,
          7793390,
          7794292,
          7795272,
          7796251,
          7797364,
          7798274,
          7799174,
          7800121,
          7801073,
          7801923,
          7802657,
          7803511,
          7804676,
          7805859,
          7806988,
          7808072,
          7808932,
          7809738,
          7810380
         ],
         "yaxis": "y"
        },
        {
         "hovertemplate": "variable=Minst 2 doser<br>Veckor från start=%{x}<br>Ackumulerat antal vaccinerade=%{y}<extra></extra>",
         "legendgroup": "Minst 2 doser",
         "line": {
          "color": "#EF553B",
          "dash": "solid"
         },
         "marker": {
          "symbol": "circle"
         },
         "mode": "lines",
         "name": "Minst 2 doser",
         "orientation": "v",
         "showlegend": true,
         "type": "scatter",
         "x": [
          0,
          1,
          2,
          3,
          4,
          5,
          6,
          7,
          8,
          9,
          10,
          11,
          12,
          13,
          14,
          15,
          16,
          17,
          18,
          19,
          20,
          21,
          22,
          23,
          24,
          25,
          26,
          27,
          28,
          29,
          30,
          31,
          32,
          33,
          34,
          35,
          36,
          37,
          38,
          39,
          40,
          41,
          42,
          43,
          44,
          45,
          46,
          47,
          48,
          49,
          50,
          51,
          52,
          53,
          54,
          55,
          56,
          57,
          58,
          59,
          60,
          61,
          62,
          63,
          64,
          65,
          66,
          67,
          68,
          69,
          70,
          71,
          72,
          73,
          74,
          75,
          76,
          77,
          78,
          79,
          80,
          81,
          82,
          83,
          84,
          85,
          86,
          87,
          88,
          89,
          90,
          91,
          92,
          93,
          94,
          95
         ],
         "xaxis": "x",
         "y": [
          0,
          0,
          0,
          68,
          7995,
          27167,
          74745,
          138399,
          217545,
          269354,
          304367,
          340094,
          391030,
          455521,
          520504,
          611001,
          675251,
          712252,
          738998,
          852666,
          998577,
          1202206,
          1489437,
          1856431,
          2266849,
          2735248,
          3082807,
          3404134,
          3614219,
          3774147,
          3979298,
          4238955,
          4534918,
          4872012,
          5286218,
          5673722,
          5972500,
          6190307,
          6366819,
          6498001,
          6607094,
          6683214,
          6743806,
          6791730,
          6839471,
          6870767,
          6925270,
          6990097,
          7067029,
          7138205,
          7209067,
          7272369,
          7298572,
          7315862,
          7342973,
          7396660,
          7440649,
          7467457,
          7488599,
          7509928,
          7527132,
          7541187,
          7550410,
          7557750,
          7565133,
          7570469,
          7574734,
          7578212,
          7581012,
          7584191,
          7587494,
          7590415,
          7593434,
          7596565,
          7599448,
          7602430,
          7604816,
          7607333,
          7609145,
          7610854,
          7612231,
          7613537,
          7614573,
          7615458,
          7616338,
          7617356,
          7618382,
          7619174,
          7620147,
          7621229,
          7622412,
          7623561,
          7624734,
          7625775,
          7626723,
          7627588
         ],
         "yaxis": "y"
        },
        {
         "hovertemplate": "variable=3 doser<br>Veckor från start=%{x}<br>Ackumulerat antal vaccinerade=%{y}<extra></extra>",
         "legendgroup": "3 doser",
         "line": {
          "color": "#00cc96",
          "dash": "solid"
         },
         "marker": {
          "symbol": "circle"
         },
         "mode": "lines",
         "name": "3 doser",
         "orientation": "v",
         "showlegend": true,
         "type": "scatter",
         "x": [
          0,
          1,
          2,
          3,
          4,
          5,
          6,
          7,
          8,
          9,
          10,
          11,
          12,
          13,
          14,
          15,
          16,
          17,
          18,
          19,
          20,
          21,
          22,
          23,
          24,
          25,
          26,
          27,
          28,
          29,
          30,
          31,
          32,
          33,
          34,
          35,
          36,
          37,
          38,
          39,
          40,
          41,
          42,
          43,
          44,
          45,
          46,
          47,
          48,
          49,
          50,
          51,
          52,
          53,
          54,
          55,
          56,
          57,
          58,
          59,
          60,
          61,
          62,
          63,
          64,
          65,
          66,
          67,
          68,
          69,
          70,
          71,
          72,
          73,
          74,
          75,
          76,
          77,
          78,
          79,
          80,
          81,
          82,
          83,
          84,
          85,
          86,
          87,
          88,
          89,
          90,
          91,
          92,
          93,
          94,
          95
         ],
         "xaxis": "x",
         "y": [
          0,
          0,
          0,
          0,
          0,
          0,
          0,
          0,
          0,
          0,
          0,
          0,
          0,
          0,
          0,
          0,
          0,
          0,
          0,
          0,
          0,
          0,
          0,
          0,
          0,
          0,
          0,
          0,
          0,
          0,
          0,
          0,
          0,
          0,
          0,
          0,
          353,
          2023,
          8062,
          16517,
          27826,
          60274,
          121949,
          186864,
          269028,
          346840,
          560394,
          854047,
          1156661,
          1471089,
          1819097,
          2248535,
          2433597,
          2555275,
          2747500,
          3140407,
          3620195,
          4044039,
          4397353,
          4659255,
          4824122,
          4930178,
          4998679,
          5049590,
          5111136,
          5150863,
          5186471,
          5216054,
          5236337,
          5259487,
          5286924,
          5311725,
          5334656,
          5356133,
          5373272,
          5388719,
          5400084,
          5411270,
          5419331,
          5428440,
          5437303,
          5447583,
          5454709,
          5461087,
          5466990,
          5472845,
          5478635,
          5483918,
          5489379,
          5496164,
          5502955,
          5509988,
          5516559,
          5522022,
          5527028,
          5531232
         ],
         "yaxis": "y"
        },
        {
         "hovertemplate": "variable=4 doser<br>Veckor från start=%{x}<br>Ackumulerat antal vaccinerade=%{y}<extra></extra>",
         "legendgroup": "4 doser",
         "line": {
          "color": "#ab63fa",
          "dash": "solid"
         },
         "marker": {
          "symbol": "circle"
         },
         "mode": "lines",
         "name": "4 doser",
         "orientation": "v",
         "showlegend": true,
         "type": "scatter",
         "x": [
          0,
          1,
          2,
          3,
          4,
          5,
          6,
          7,
          8,
          9,
          10,
          11,
          12,
          13,
          14,
          15,
          16,
          17,
          18,
          19,
          20,
          21,
          22,
          23,
          24,
          25,
          26,
          27,
          28,
          29,
          30,
          31,
          32,
          33,
          34,
          35,
          36,
          37,
          38,
          39,
          40,
          41,
          42,
          43,
          44,
          45,
          46,
          47,
          48,
          49,
          50,
          51,
          52,
          53,
          54,
          55,
          56,
          57,
          58,
          59,
          60,
          61,
          62,
          63,
          64,
          65,
          66,
          67,
          68,
          69,
          70,
          71,
          72,
          73,
          74,
          75,
          76,
          77,
          78,
          79,
          80,
          81,
          82,
          83,
          84,
          85,
          86,
          87,
          88,
          89,
          90,
          91,
          92,
          93,
          94,
          95
         ],
         "xaxis": "x",
         "y": [
          0,
          0,
          0,
          0,
          0,
          0,
          0,
          0,
          0,
          0,
          0,
          0,
          0,
          0,
          0,
          0,
          0,
          0,
          0,
          0,
          0,
          0,
          0,
          0,
          0,
          0,
          0,
          0,
          0,
          0,
          0,
          0,
          0,
          0,
          0,
          0,
          0,
          0,
          0,
          0,
          0,
          0,
          0,
          0,
          0,
          0,
          0,
          0,
          0,
          0,
          0,
          0,
          0,
          0,
          0,
          0,
          20,
          1844,
          6575,
          12001,
          23924,
          62776,
          120956,
          191144,
          287106,
          354701,
          404048,
          572343,
          736299,
          923546,
          1112353,
          1248574,
          1350374,
          1428188,
          1476052,
          1517999,
          1547841,
          1573856,
          1588976,
          1603798,
          1617328,
          1633151,
          1644932,
          1656161,
          1666376,
          1675103,
          1684528,
          1698508,
          1754094,
          1850075,
          1956532,
          2078006,
          2191428,
          2285018,
          2363358,
          2427338
         ],
         "yaxis": "y"
        },
        {
         "hovertemplate": "variable=5 doser<br>Veckor från start=%{x}<br>Ackumulerat antal vaccinerade=%{y}<extra></extra>",
         "legendgroup": "5 doser",
         "line": {
          "color": "#FFA15A",
          "dash": "solid"
         },
         "marker": {
          "symbol": "circle"
         },
         "mode": "lines",
         "name": "5 doser",
         "orientation": "v",
         "showlegend": true,
         "type": "scatter",
         "x": [
          0,
          1,
          2,
          3,
          4,
          5,
          6,
          7,
          8,
          9,
          10,
          11,
          12,
          13,
          14,
          15,
          16,
          17,
          18,
          19,
          20,
          21,
          22,
          23,
          24,
          25,
          26,
          27,
          28,
          29,
          30,
          31,
          32,
          33,
          34,
          35,
          36,
          37,
          38,
          39,
          40,
          41,
          42,
          43,
          44,
          45,
          46,
          47,
          48,
          49,
          50,
          51,
          52,
          53,
          54,
          55,
          56,
          57,
          58,
          59,
          60,
          61,
          62,
          63,
          64,
          65,
          66,
          67,
          68,
          69,
          70,
          71,
          72,
          73,
          74,
          75,
          76,
          77,
          78,
          79,
          80,
          81,
          82,
          83,
          84,
          85,
          86,
          87,
          88,
          89,
          90,
          91,
          92,
          93,
          94,
          95
         ],
         "xaxis": "x",
         "y": [
          0,
          0,
          0,
          0,
          0,
          0,
          0,
          0,
          0,
          0,
          0,
          0,
          0,
          0,
          0,
          0,
          0,
          0,
          0,
          0,
          0,
          0,
          0,
          0,
          0,
          0,
          0,
          0,
          0,
          0,
          0,
          0,
          0,
          0,
          0,
          0,
          0,
          0,
          0,
          0,
          0,
          0,
          0,
          0,
          0,
          0,
          0,
          0,
          0,
          0,
          0,
          0,
          0,
          0,
          0,
          0,
          0,
          0,
          0,
          0,
          0,
          0,
          0,
          0,
          0,
          0,
          0,
          0,
          0,
          0,
          0,
          0,
          0,
          0,
          0,
          0,
          0,
          0,
          0,
          0,
          0,
          0,
          0,
          0,
          0,
          0,
          1158,
          7569,
          114683,
          327897,
          521400,
          693794,
          837547,
          942467,
          1024426,
          1084097
         ],
         "yaxis": "y"
        }
       ],
       "layout": {
        "legend": {
         "title": {
          "text": ""
         },
         "tracegroupgap": 0
        },
        "template": {
         "data": {
          "bar": [
           {
            "error_x": {
             "color": "#2a3f5f"
            },
            "error_y": {
             "color": "#2a3f5f"
            },
            "marker": {
             "line": {
              "color": "#E5ECF6",
              "width": 0.5
             },
             "pattern": {
              "fillmode": "overlay",
              "size": 10,
              "solidity": 0.2
             }
            },
            "type": "bar"
           }
          ],
          "barpolar": [
           {
            "marker": {
             "line": {
              "color": "#E5ECF6",
              "width": 0.5
             },
             "pattern": {
              "fillmode": "overlay",
              "size": 10,
              "solidity": 0.2
             }
            },
            "type": "barpolar"
           }
          ],
          "carpet": [
           {
            "aaxis": {
             "endlinecolor": "#2a3f5f",
             "gridcolor": "white",
             "linecolor": "white",
             "minorgridcolor": "white",
             "startlinecolor": "#2a3f5f"
            },
            "baxis": {
             "endlinecolor": "#2a3f5f",
             "gridcolor": "white",
             "linecolor": "white",
             "minorgridcolor": "white",
             "startlinecolor": "#2a3f5f"
            },
            "type": "carpet"
           }
          ],
          "choropleth": [
           {
            "colorbar": {
             "outlinewidth": 0,
             "ticks": ""
            },
            "type": "choropleth"
           }
          ],
          "contour": [
           {
            "colorbar": {
             "outlinewidth": 0,
             "ticks": ""
            },
            "colorscale": [
             [
              0,
              "#0d0887"
             ],
             [
              0.1111111111111111,
              "#46039f"
             ],
             [
              0.2222222222222222,
              "#7201a8"
             ],
             [
              0.3333333333333333,
              "#9c179e"
             ],
             [
              0.4444444444444444,
              "#bd3786"
             ],
             [
              0.5555555555555556,
              "#d8576b"
             ],
             [
              0.6666666666666666,
              "#ed7953"
             ],
             [
              0.7777777777777778,
              "#fb9f3a"
             ],
             [
              0.8888888888888888,
              "#fdca26"
             ],
             [
              1,
              "#f0f921"
             ]
            ],
            "type": "contour"
           }
          ],
          "contourcarpet": [
           {
            "colorbar": {
             "outlinewidth": 0,
             "ticks": ""
            },
            "type": "contourcarpet"
           }
          ],
          "heatmap": [
           {
            "colorbar": {
             "outlinewidth": 0,
             "ticks": ""
            },
            "colorscale": [
             [
              0,
              "#0d0887"
             ],
             [
              0.1111111111111111,
              "#46039f"
             ],
             [
              0.2222222222222222,
              "#7201a8"
             ],
             [
              0.3333333333333333,
              "#9c179e"
             ],
             [
              0.4444444444444444,
              "#bd3786"
             ],
             [
              0.5555555555555556,
              "#d8576b"
             ],
             [
              0.6666666666666666,
              "#ed7953"
             ],
             [
              0.7777777777777778,
              "#fb9f3a"
             ],
             [
              0.8888888888888888,
              "#fdca26"
             ],
             [
              1,
              "#f0f921"
             ]
            ],
            "type": "heatmap"
           }
          ],
          "heatmapgl": [
           {
            "colorbar": {
             "outlinewidth": 0,
             "ticks": ""
            },
            "colorscale": [
             [
              0,
              "#0d0887"
             ],
             [
              0.1111111111111111,
              "#46039f"
             ],
             [
              0.2222222222222222,
              "#7201a8"
             ],
             [
              0.3333333333333333,
              "#9c179e"
             ],
             [
              0.4444444444444444,
              "#bd3786"
             ],
             [
              0.5555555555555556,
              "#d8576b"
             ],
             [
              0.6666666666666666,
              "#ed7953"
             ],
             [
              0.7777777777777778,
              "#fb9f3a"
             ],
             [
              0.8888888888888888,
              "#fdca26"
             ],
             [
              1,
              "#f0f921"
             ]
            ],
            "type": "heatmapgl"
           }
          ],
          "histogram": [
           {
            "marker": {
             "pattern": {
              "fillmode": "overlay",
              "size": 10,
              "solidity": 0.2
             }
            },
            "type": "histogram"
           }
          ],
          "histogram2d": [
           {
            "colorbar": {
             "outlinewidth": 0,
             "ticks": ""
            },
            "colorscale": [
             [
              0,
              "#0d0887"
             ],
             [
              0.1111111111111111,
              "#46039f"
             ],
             [
              0.2222222222222222,
              "#7201a8"
             ],
             [
              0.3333333333333333,
              "#9c179e"
             ],
             [
              0.4444444444444444,
              "#bd3786"
             ],
             [
              0.5555555555555556,
              "#d8576b"
             ],
             [
              0.6666666666666666,
              "#ed7953"
             ],
             [
              0.7777777777777778,
              "#fb9f3a"
             ],
             [
              0.8888888888888888,
              "#fdca26"
             ],
             [
              1,
              "#f0f921"
             ]
            ],
            "type": "histogram2d"
           }
          ],
          "histogram2dcontour": [
           {
            "colorbar": {
             "outlinewidth": 0,
             "ticks": ""
            },
            "colorscale": [
             [
              0,
              "#0d0887"
             ],
             [
              0.1111111111111111,
              "#46039f"
             ],
             [
              0.2222222222222222,
              "#7201a8"
             ],
             [
              0.3333333333333333,
              "#9c179e"
             ],
             [
              0.4444444444444444,
              "#bd3786"
             ],
             [
              0.5555555555555556,
              "#d8576b"
             ],
             [
              0.6666666666666666,
              "#ed7953"
             ],
             [
              0.7777777777777778,
              "#fb9f3a"
             ],
             [
              0.8888888888888888,
              "#fdca26"
             ],
             [
              1,
              "#f0f921"
             ]
            ],
            "type": "histogram2dcontour"
           }
          ],
          "mesh3d": [
           {
            "colorbar": {
             "outlinewidth": 0,
             "ticks": ""
            },
            "type": "mesh3d"
           }
          ],
          "parcoords": [
           {
            "line": {
             "colorbar": {
              "outlinewidth": 0,
              "ticks": ""
             }
            },
            "type": "parcoords"
           }
          ],
          "pie": [
           {
            "automargin": true,
            "type": "pie"
           }
          ],
          "scatter": [
           {
            "fillpattern": {
             "fillmode": "overlay",
             "size": 10,
             "solidity": 0.2
            },
            "type": "scatter"
           }
          ],
          "scatter3d": [
           {
            "line": {
             "colorbar": {
              "outlinewidth": 0,
              "ticks": ""
             }
            },
            "marker": {
             "colorbar": {
              "outlinewidth": 0,
              "ticks": ""
             }
            },
            "type": "scatter3d"
           }
          ],
          "scattercarpet": [
           {
            "marker": {
             "colorbar": {
              "outlinewidth": 0,
              "ticks": ""
             }
            },
            "type": "scattercarpet"
           }
          ],
          "scattergeo": [
           {
            "marker": {
             "colorbar": {
              "outlinewidth": 0,
              "ticks": ""
             }
            },
            "type": "scattergeo"
           }
          ],
          "scattergl": [
           {
            "marker": {
             "colorbar": {
              "outlinewidth": 0,
              "ticks": ""
             }
            },
            "type": "scattergl"
           }
          ],
          "scattermapbox": [
           {
            "marker": {
             "colorbar": {
              "outlinewidth": 0,
              "ticks": ""
             }
            },
            "type": "scattermapbox"
           }
          ],
          "scatterpolar": [
           {
            "marker": {
             "colorbar": {
              "outlinewidth": 0,
              "ticks": ""
             }
            },
            "type": "scatterpolar"
           }
          ],
          "scatterpolargl": [
           {
            "marker": {
             "colorbar": {
              "outlinewidth": 0,
              "ticks": ""
             }
            },
            "type": "scatterpolargl"
           }
          ],
          "scatterternary": [
           {
            "marker": {
             "colorbar": {
              "outlinewidth": 0,
              "ticks": ""
             }
            },
            "type": "scatterternary"
           }
          ],
          "surface": [
           {
            "colorbar": {
             "outlinewidth": 0,
             "ticks": ""
            },
            "colorscale": [
             [
              0,
              "#0d0887"
             ],
             [
              0.1111111111111111,
              "#46039f"
             ],
             [
              0.2222222222222222,
              "#7201a8"
             ],
             [
              0.3333333333333333,
              "#9c179e"
             ],
             [
              0.4444444444444444,
              "#bd3786"
             ],
             [
              0.5555555555555556,
              "#d8576b"
             ],
             [
              0.6666666666666666,
              "#ed7953"
             ],
             [
              0.7777777777777778,
              "#fb9f3a"
             ],
             [
              0.8888888888888888,
              "#fdca26"
             ],
             [
              1,
              "#f0f921"
             ]
            ],
            "type": "surface"
           }
          ],
          "table": [
           {
            "cells": {
             "fill": {
              "color": "#EBF0F8"
             },
             "line": {
              "color": "white"
             }
            },
            "header": {
             "fill": {
              "color": "#C8D4E3"
             },
             "line": {
              "color": "white"
             }
            },
            "type": "table"
           }
          ]
         },
         "layout": {
          "annotationdefaults": {
           "arrowcolor": "#2a3f5f",
           "arrowhead": 0,
           "arrowwidth": 1
          },
          "autotypenumbers": "strict",
          "coloraxis": {
           "colorbar": {
            "outlinewidth": 0,
            "ticks": ""
           }
          },
          "colorscale": {
           "diverging": [
            [
             0,
             "#8e0152"
            ],
            [
             0.1,
             "#c51b7d"
            ],
            [
             0.2,
             "#de77ae"
            ],
            [
             0.3,
             "#f1b6da"
            ],
            [
             0.4,
             "#fde0ef"
            ],
            [
             0.5,
             "#f7f7f7"
            ],
            [
             0.6,
             "#e6f5d0"
            ],
            [
             0.7,
             "#b8e186"
            ],
            [
             0.8,
             "#7fbc41"
            ],
            [
             0.9,
             "#4d9221"
            ],
            [
             1,
             "#276419"
            ]
           ],
           "sequential": [
            [
             0,
             "#0d0887"
            ],
            [
             0.1111111111111111,
             "#46039f"
            ],
            [
             0.2222222222222222,
             "#7201a8"
            ],
            [
             0.3333333333333333,
             "#9c179e"
            ],
            [
             0.4444444444444444,
             "#bd3786"
            ],
            [
             0.5555555555555556,
             "#d8576b"
            ],
            [
             0.6666666666666666,
             "#ed7953"
            ],
            [
             0.7777777777777778,
             "#fb9f3a"
            ],
            [
             0.8888888888888888,
             "#fdca26"
            ],
            [
             1,
             "#f0f921"
            ]
           ],
           "sequentialminus": [
            [
             0,
             "#0d0887"
            ],
            [
             0.1111111111111111,
             "#46039f"
            ],
            [
             0.2222222222222222,
             "#7201a8"
            ],
            [
             0.3333333333333333,
             "#9c179e"
            ],
            [
             0.4444444444444444,
             "#bd3786"
            ],
            [
             0.5555555555555556,
             "#d8576b"
            ],
            [
             0.6666666666666666,
             "#ed7953"
            ],
            [
             0.7777777777777778,
             "#fb9f3a"
            ],
            [
             0.8888888888888888,
             "#fdca26"
            ],
            [
             1,
             "#f0f921"
            ]
           ]
          },
          "colorway": [
           "#636efa",
           "#EF553B",
           "#00cc96",
           "#ab63fa",
           "#FFA15A",
           "#19d3f3",
           "#FF6692",
           "#B6E880",
           "#FF97FF",
           "#FECB52"
          ],
          "font": {
           "color": "#2a3f5f"
          },
          "geo": {
           "bgcolor": "white",
           "lakecolor": "white",
           "landcolor": "#E5ECF6",
           "showlakes": true,
           "showland": true,
           "subunitcolor": "white"
          },
          "hoverlabel": {
           "align": "left"
          },
          "hovermode": "closest",
          "mapbox": {
           "style": "light"
          },
          "paper_bgcolor": "white",
          "plot_bgcolor": "#E5ECF6",
          "polar": {
           "angularaxis": {
            "gridcolor": "white",
            "linecolor": "white",
            "ticks": ""
           },
           "bgcolor": "#E5ECF6",
           "radialaxis": {
            "gridcolor": "white",
            "linecolor": "white",
            "ticks": ""
           }
          },
          "scene": {
           "xaxis": {
            "backgroundcolor": "#E5ECF6",
            "gridcolor": "white",
            "gridwidth": 2,
            "linecolor": "white",
            "showbackground": true,
            "ticks": "",
            "zerolinecolor": "white"
           },
           "yaxis": {
            "backgroundcolor": "#E5ECF6",
            "gridcolor": "white",
            "gridwidth": 2,
            "linecolor": "white",
            "showbackground": true,
            "ticks": "",
            "zerolinecolor": "white"
           },
           "zaxis": {
            "backgroundcolor": "#E5ECF6",
            "gridcolor": "white",
            "gridwidth": 2,
            "linecolor": "white",
            "showbackground": true,
            "ticks": "",
            "zerolinecolor": "white"
           }
          },
          "shapedefaults": {
           "line": {
            "color": "#2a3f5f"
           }
          },
          "ternary": {
           "aaxis": {
            "gridcolor": "white",
            "linecolor": "white",
            "ticks": ""
           },
           "baxis": {
            "gridcolor": "white",
            "linecolor": "white",
            "ticks": ""
           },
           "bgcolor": "#E5ECF6",
           "caxis": {
            "gridcolor": "white",
            "linecolor": "white",
            "ticks": ""
           }
          },
          "title": {
           "x": 0.05
          },
          "xaxis": {
           "automargin": true,
           "gridcolor": "white",
           "linecolor": "white",
           "ticks": "",
           "title": {
            "standoff": 15
           },
           "zerolinecolor": "white",
           "zerolinewidth": 2
          },
          "yaxis": {
           "automargin": true,
           "gridcolor": "white",
           "linecolor": "white",
           "ticks": "",
           "title": {
            "standoff": 15
           },
           "zerolinecolor": "white",
           "zerolinewidth": 2
          }
         }
        },
        "title": {
         "text": "Antal vaccinerade i Sverige per dos från vaccineringsstart v52 2020 till v42 2022"
        },
        "xaxis": {
         "anchor": "y",
         "domain": [
          0,
          1
         ],
         "title": {
          "text": "Veckor från start"
         }
        },
        "yaxis": {
         "anchor": "x",
         "domain": [
          0,
          1
         ],
         "title": {
          "text": "Ackumulerat antal vaccinerade"
         }
        }
       }
      }
     },
     "metadata": {},
     "output_type": "display_data"
    }
   ],
   "source": [
    "import plotly_express as px\n",
    "\n",
    "#nedanstående 3 rader behövs för att kunna importera functioner från dokumentet functions.py som ligger i Excercises\n",
    "import sys\n",
    "sys.path.append (\"../Excercises/\")\n",
    "import functions # alt kan skriva from functions import remove_legend_heading\n",
    "\n",
    "fig = px.line(\n",
    "    df_1_5,\n",
    "    x=\"Veckor från start\",\n",
    "    y=col_list, #???????????hitta ett sätt att lägga på kolumnen Totalt vaccinerade till y eller om ny y axel skall skapas??????\n",
    "    title=\"Antal vaccinerade i Sverige per dos från vaccineringsstart v52 2020 till v42 2022\",\n",
    "    labels={\"value\" : \"Ackumulerat antal vaccinerade\"}\n",
    ")\n",
    "functions.remove_legend_heading(fig) #funktion remove_legend_heading skriven i dokumentet functions.py under Excercises\n",
    "fig.show()\n",
    "\n",
    "fig.write_html(\"../Lab/Visualiseringar/plot_3_3.html\")"
   ]
  }
 ],
 "metadata": {
  "kernelspec": {
   "display_name": "Python 3.9.13 ('Databehandling-Dorota-Bjoorn-jxKP5yN8')",
   "language": "python",
   "name": "python3"
  },
  "language_info": {
   "codemirror_mode": {
    "name": "ipython",
    "version": 3
   },
   "file_extension": ".py",
   "mimetype": "text/x-python",
   "name": "python",
   "nbconvert_exporter": "python",
   "pygments_lexer": "ipython3",
   "version": "3.9.13"
  },
  "orig_nbformat": 4,
  "vscode": {
   "interpreter": {
    "hash": "3bcad62de4ced59432ab76a1ab7a518764b5efaffdc10b6bc78c6b8e3bf69931"
   }
  }
 },
 "nbformat": 4,
 "nbformat_minor": 2
}
