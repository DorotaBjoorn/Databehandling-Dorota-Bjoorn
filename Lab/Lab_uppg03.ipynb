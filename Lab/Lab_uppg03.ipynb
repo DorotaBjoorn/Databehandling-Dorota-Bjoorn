{
 "cells": [
  {
   "cell_type": "markdown",
   "metadata": {},
   "source": [
    "# 1"
   ]
  },
  {
   "cell_type": "markdown",
   "metadata": {},
   "source": [
    "Totalt antal intensivvårdspatienter och avlidna relativt insjuknade per län  \n",
    "\n",
    "Svar:\n",
    "- Av de insjuknade intensivvårdades mellan 0.20% (Västermanland) och 0.66% (Sörmland)\n",
    "- Av de insjunknade avled mellan 0.48% (Halland) och 1.2% (Västermanland)"
   ]
  },
  {
   "cell_type": "code",
   "execution_count": 50,
   "metadata": {},
   "outputs": [
    {
     "data": {
      "text/html": [
       "<div>\n",
       "<style scoped>\n",
       "    .dataframe tbody tr th:only-of-type {\n",
       "        vertical-align: middle;\n",
       "    }\n",
       "\n",
       "    .dataframe tbody tr th {\n",
       "        vertical-align: top;\n",
       "    }\n",
       "\n",
       "    .dataframe thead th {\n",
       "        text-align: right;\n",
       "    }\n",
       "</style>\n",
       "<table border=\"1\" class=\"dataframe\">\n",
       "  <thead>\n",
       "    <tr style=\"text-align: right;\">\n",
       "      <th></th>\n",
       "      <th>Region</th>\n",
       "      <th>Totalt_antal_fall</th>\n",
       "      <th>Fall_per_100000_inv</th>\n",
       "      <th>Totalt_antal_intensivvårdade</th>\n",
       "      <th>Totalt_antal_avlidna</th>\n",
       "    </tr>\n",
       "  </thead>\n",
       "  <tbody>\n",
       "    <tr>\n",
       "      <th>0</th>\n",
       "      <td>Blekinge</td>\n",
       "      <td>30829</td>\n",
       "      <td>19371.449951</td>\n",
       "      <td>85</td>\n",
       "      <td>184</td>\n",
       "    </tr>\n",
       "    <tr>\n",
       "      <th>1</th>\n",
       "      <td>Dalarna</td>\n",
       "      <td>75091</td>\n",
       "      <td>26098.780273</td>\n",
       "      <td>260</td>\n",
       "      <td>544</td>\n",
       "    </tr>\n",
       "    <tr>\n",
       "      <th>2</th>\n",
       "      <td>Gotland</td>\n",
       "      <td>11874</td>\n",
       "      <td>19776.671875</td>\n",
       "      <td>46</td>\n",
       "      <td>82</td>\n",
       "    </tr>\n",
       "    <tr>\n",
       "      <th>3</th>\n",
       "      <td>Gävleborg</td>\n",
       "      <td>74803</td>\n",
       "      <td>26020.503418</td>\n",
       "      <td>332</td>\n",
       "      <td>754</td>\n",
       "    </tr>\n",
       "    <tr>\n",
       "      <th>4</th>\n",
       "      <td>Halland</td>\n",
       "      <td>108822</td>\n",
       "      <td>32349.047119</td>\n",
       "      <td>229</td>\n",
       "      <td>518</td>\n",
       "    </tr>\n",
       "  </tbody>\n",
       "</table>\n",
       "</div>"
      ],
      "text/plain": [
       "      Region  Totalt_antal_fall  Fall_per_100000_inv  \\\n",
       "0   Blekinge              30829         19371.449951   \n",
       "1    Dalarna              75091         26098.780273   \n",
       "2    Gotland              11874         19776.671875   \n",
       "3  Gävleborg              74803         26020.503418   \n",
       "4    Halland             108822         32349.047119   \n",
       "\n",
       "   Totalt_antal_intensivvårdade  Totalt_antal_avlidna  \n",
       "0                            85                   184  \n",
       "1                           260                   544  \n",
       "2                            46                    82  \n",
       "3                           332                   754  \n",
       "4                           229                   518  "
      ]
     },
     "execution_count": 50,
     "metadata": {},
     "output_type": "execute_result"
    }
   ],
   "source": [
    "import pandas as pd\n",
    "import matplotlib.pyplot as plt\n",
    "import plotly_express as px\n",
    "\n",
    "df = pd.read_excel(\"../Lab/Data/covid19.xlsx\", sheet_name=\"Totalt antal per region\")\n",
    "df.head()"
   ]
  },
  {
   "cell_type": "code",
   "execution_count": 51,
   "metadata": {},
   "outputs": [
    {
     "name": "stdout",
     "output_type": "stream",
     "text": [
      "<class 'pandas.core.frame.DataFrame'>\n",
      "RangeIndex: 21 entries, 0 to 20\n",
      "Data columns (total 5 columns):\n",
      " #   Column                        Non-Null Count  Dtype  \n",
      "---  ------                        --------------  -----  \n",
      " 0   Region                        21 non-null     object \n",
      " 1   Totalt_antal_fall             21 non-null     int64  \n",
      " 2   Fall_per_100000_inv           21 non-null     float64\n",
      " 3   Totalt_antal_intensivvårdade  21 non-null     int64  \n",
      " 4   Totalt_antal_avlidna          21 non-null     int64  \n",
      "dtypes: float64(1), int64(3), object(1)\n",
      "memory usage: 968.0+ bytes\n"
     ]
    }
   ],
   "source": [
    "df.info()"
   ]
  },
  {
   "cell_type": "code",
   "execution_count": 52,
   "metadata": {},
   "outputs": [
    {
     "data": {
      "text/html": [
       "<div>\n",
       "<style scoped>\n",
       "    .dataframe tbody tr th:only-of-type {\n",
       "        vertical-align: middle;\n",
       "    }\n",
       "\n",
       "    .dataframe tbody tr th {\n",
       "        vertical-align: top;\n",
       "    }\n",
       "\n",
       "    .dataframe thead th {\n",
       "        text-align: right;\n",
       "    }\n",
       "</style>\n",
       "<table border=\"1\" class=\"dataframe\">\n",
       "  <thead>\n",
       "    <tr style=\"text-align: right;\">\n",
       "      <th></th>\n",
       "      <th>Region</th>\n",
       "      <th>Totalt_antal_fall</th>\n",
       "      <th>Fall_per_100000_inv</th>\n",
       "      <th>Totalt_antal_intensivvårdade</th>\n",
       "      <th>Totalt_antal_avlidna</th>\n",
       "      <th>Relativt antal intensivvårdade (%)</th>\n",
       "      <th>Relativt antal avlidna (%)</th>\n",
       "    </tr>\n",
       "  </thead>\n",
       "  <tbody>\n",
       "    <tr>\n",
       "      <th>17</th>\n",
       "      <td>Västmanland</td>\n",
       "      <td>78438</td>\n",
       "      <td>28326.636230</td>\n",
       "      <td>156</td>\n",
       "      <td>534</td>\n",
       "      <td>0.198883</td>\n",
       "      <td>0.680792</td>\n",
       "    </tr>\n",
       "    <tr>\n",
       "      <th>4</th>\n",
       "      <td>Halland</td>\n",
       "      <td>108822</td>\n",
       "      <td>32349.047119</td>\n",
       "      <td>229</td>\n",
       "      <td>518</td>\n",
       "      <td>0.210435</td>\n",
       "      <td>0.476007</td>\n",
       "    </tr>\n",
       "    <tr>\n",
       "      <th>7</th>\n",
       "      <td>Kalmar</td>\n",
       "      <td>62810</td>\n",
       "      <td>25537.878418</td>\n",
       "      <td>135</td>\n",
       "      <td>385</td>\n",
       "      <td>0.214934</td>\n",
       "      <td>0.612960</td>\n",
       "    </tr>\n",
       "    <tr>\n",
       "      <th>10</th>\n",
       "      <td>Skåne</td>\n",
       "      <td>346727</td>\n",
       "      <td>24998.670410</td>\n",
       "      <td>819</td>\n",
       "      <td>2587</td>\n",
       "      <td>0.236209</td>\n",
       "      <td>0.746120</td>\n",
       "    </tr>\n",
       "    <tr>\n",
       "      <th>0</th>\n",
       "      <td>Blekinge</td>\n",
       "      <td>30829</td>\n",
       "      <td>19371.449951</td>\n",
       "      <td>85</td>\n",
       "      <td>184</td>\n",
       "      <td>0.275714</td>\n",
       "      <td>0.596841</td>\n",
       "    </tr>\n",
       "  </tbody>\n",
       "</table>\n",
       "</div>"
      ],
      "text/plain": [
       "         Region  Totalt_antal_fall  Fall_per_100000_inv  \\\n",
       "17  Västmanland              78438         28326.636230   \n",
       "4       Halland             108822         32349.047119   \n",
       "7        Kalmar              62810         25537.878418   \n",
       "10        Skåne             346727         24998.670410   \n",
       "0      Blekinge              30829         19371.449951   \n",
       "\n",
       "    Totalt_antal_intensivvårdade  Totalt_antal_avlidna  \\\n",
       "17                           156                   534   \n",
       "4                            229                   518   \n",
       "7                            135                   385   \n",
       "10                           819                  2587   \n",
       "0                             85                   184   \n",
       "\n",
       "    Relativt antal intensivvårdade (%)  Relativt antal avlidna (%)  \n",
       "17                            0.198883                    0.680792  \n",
       "4                             0.210435                    0.476007  \n",
       "7                             0.214934                    0.612960  \n",
       "10                            0.236209                    0.746120  \n",
       "0                             0.275714                    0.596841  "
      ]
     },
     "execution_count": 52,
     "metadata": {},
     "output_type": "execute_result"
    }
   ],
   "source": [
    "# adding columns showing number of intensive care patients and dead indiviuals relative number of cases\n",
    "\n",
    "df[\"Relativt antal intensivvårdade (%)\"] = 100*df[\"Totalt_antal_intensivvårdade\"] / df[\"Totalt_antal_fall\"]\n",
    "df[\"Relativt antal avlidna (%)\"] = 100*df[\"Totalt_antal_avlidna\"] / df[\"Totalt_antal_fall\"]\n",
    "\n",
    "# sorting on Relativt antal intensivvårdade (%)\n",
    "df.sort_values(by=\"Relativt antal intensivvårdade (%)\", inplace=True)\n",
    "\n",
    "df.head()"
   ]
  },
  {
   "cell_type": "code",
   "execution_count": 57,
   "metadata": {},
   "outputs": [
    {
     "data": {
      "application/vnd.plotly.v1+json": {
       "config": {
        "plotlyServerURL": "https://plot.ly"
       },
       "data": [
        {
         "alignmentgroup": "True",
         "hovertemplate": "Region:%{label}: <br>Relativt antal (%): %{value}",
         "legendgroup": "Relativt antal intensivvårdade (%)",
         "marker": {
          "color": "#636efa",
          "pattern": {
           "shape": ""
          }
         },
         "name": "Relativt antal intensivvårdade (%)",
         "offsetgroup": "Relativt antal intensivvårdade (%)",
         "orientation": "v",
         "showlegend": true,
         "textposition": "auto",
         "type": "bar",
         "x": [
          "Västmanland",
          "Halland",
          "Kalmar",
          "Skåne",
          "Blekinge",
          "Jämtland Härjedalen",
          "Värmland",
          "Örebro",
          "Kronoberg",
          "Västerbotten",
          "Dalarna",
          "Västra Götaland",
          "Västernorrland",
          "Gotland",
          "Stockholm",
          "Gävleborg",
          "Östergötland",
          "Jönköping",
          "Uppsala",
          "Norrbotten",
          "Sörmland"
         ],
         "xaxis": "x",
         "y": [
          0.19888319437007573,
          0.21043538990277702,
          0.21493392771851616,
          0.23620889056808383,
          0.27571442472996205,
          0.27658893061985035,
          0.2785917404044632,
          0.27898796106298457,
          0.31480761756704234,
          0.3239956135978467,
          0.34624655418092715,
          0.3758907710937746,
          0.38595617529880477,
          0.3874010442984672,
          0.43602902024526424,
          0.44383246661230163,
          0.44537568451206055,
          0.4617340679440566,
          0.49282102703048664,
          0.5260565461530884,
          0.6566742248004948
         ],
         "yaxis": "y"
        },
        {
         "alignmentgroup": "True",
         "hovertemplate": "Region:%{label}: <br>Relativt antal (%): %{value}",
         "legendgroup": "Relativt antal avlidna (%)",
         "marker": {
          "color": "#EF553B",
          "pattern": {
           "shape": ""
          }
         },
         "name": "Relativt antal avlidna (%)",
         "offsetgroup": "Relativt antal avlidna (%)",
         "orientation": "v",
         "showlegend": true,
         "textposition": "auto",
         "type": "bar",
         "x": [
          "Västmanland",
          "Halland",
          "Kalmar",
          "Skåne",
          "Blekinge",
          "Jämtland Härjedalen",
          "Värmland",
          "Örebro",
          "Kronoberg",
          "Västerbotten",
          "Dalarna",
          "Västra Götaland",
          "Västernorrland",
          "Gotland",
          "Stockholm",
          "Gävleborg",
          "Östergötland",
          "Jönköping",
          "Uppsala",
          "Norrbotten",
          "Sörmland"
         ],
         "xaxis": "x",
         "y": [
          0.6807924730360284,
          0.4760066898237489,
          0.6129597197898424,
          0.7461201463975982,
          0.5968406370625061,
          0.5735580982327423,
          0.593270493814686,
          0.530683621587199,
          0.7967353284104158,
          0.6529757750971987,
          0.724454328747786,
          0.7522317107756855,
          1.2058907228229938,
          0.6905844702711808,
          0.9274477383364298,
          1.0079809633303478,
          0.9008735436721225,
          0.8431665588543642,
          0.7701661937576003,
          0.9043443995665452,
          0.9747047910715864
         ],
         "yaxis": "y"
        }
       ],
       "layout": {
        "barmode": "group",
        "legend": {
         "title": {
          "text": ""
         },
         "tracegroupgap": 0
        },
        "template": {
         "data": {
          "bar": [
           {
            "error_x": {
             "color": "#2a3f5f"
            },
            "error_y": {
             "color": "#2a3f5f"
            },
            "marker": {
             "line": {
              "color": "#E5ECF6",
              "width": 0.5
             },
             "pattern": {
              "fillmode": "overlay",
              "size": 10,
              "solidity": 0.2
             }
            },
            "type": "bar"
           }
          ],
          "barpolar": [
           {
            "marker": {
             "line": {
              "color": "#E5ECF6",
              "width": 0.5
             },
             "pattern": {
              "fillmode": "overlay",
              "size": 10,
              "solidity": 0.2
             }
            },
            "type": "barpolar"
           }
          ],
          "carpet": [
           {
            "aaxis": {
             "endlinecolor": "#2a3f5f",
             "gridcolor": "white",
             "linecolor": "white",
             "minorgridcolor": "white",
             "startlinecolor": "#2a3f5f"
            },
            "baxis": {
             "endlinecolor": "#2a3f5f",
             "gridcolor": "white",
             "linecolor": "white",
             "minorgridcolor": "white",
             "startlinecolor": "#2a3f5f"
            },
            "type": "carpet"
           }
          ],
          "choropleth": [
           {
            "colorbar": {
             "outlinewidth": 0,
             "ticks": ""
            },
            "type": "choropleth"
           }
          ],
          "contour": [
           {
            "colorbar": {
             "outlinewidth": 0,
             "ticks": ""
            },
            "colorscale": [
             [
              0,
              "#0d0887"
             ],
             [
              0.1111111111111111,
              "#46039f"
             ],
             [
              0.2222222222222222,
              "#7201a8"
             ],
             [
              0.3333333333333333,
              "#9c179e"
             ],
             [
              0.4444444444444444,
              "#bd3786"
             ],
             [
              0.5555555555555556,
              "#d8576b"
             ],
             [
              0.6666666666666666,
              "#ed7953"
             ],
             [
              0.7777777777777778,
              "#fb9f3a"
             ],
             [
              0.8888888888888888,
              "#fdca26"
             ],
             [
              1,
              "#f0f921"
             ]
            ],
            "type": "contour"
           }
          ],
          "contourcarpet": [
           {
            "colorbar": {
             "outlinewidth": 0,
             "ticks": ""
            },
            "type": "contourcarpet"
           }
          ],
          "heatmap": [
           {
            "colorbar": {
             "outlinewidth": 0,
             "ticks": ""
            },
            "colorscale": [
             [
              0,
              "#0d0887"
             ],
             [
              0.1111111111111111,
              "#46039f"
             ],
             [
              0.2222222222222222,
              "#7201a8"
             ],
             [
              0.3333333333333333,
              "#9c179e"
             ],
             [
              0.4444444444444444,
              "#bd3786"
             ],
             [
              0.5555555555555556,
              "#d8576b"
             ],
             [
              0.6666666666666666,
              "#ed7953"
             ],
             [
              0.7777777777777778,
              "#fb9f3a"
             ],
             [
              0.8888888888888888,
              "#fdca26"
             ],
             [
              1,
              "#f0f921"
             ]
            ],
            "type": "heatmap"
           }
          ],
          "heatmapgl": [
           {
            "colorbar": {
             "outlinewidth": 0,
             "ticks": ""
            },
            "colorscale": [
             [
              0,
              "#0d0887"
             ],
             [
              0.1111111111111111,
              "#46039f"
             ],
             [
              0.2222222222222222,
              "#7201a8"
             ],
             [
              0.3333333333333333,
              "#9c179e"
             ],
             [
              0.4444444444444444,
              "#bd3786"
             ],
             [
              0.5555555555555556,
              "#d8576b"
             ],
             [
              0.6666666666666666,
              "#ed7953"
             ],
             [
              0.7777777777777778,
              "#fb9f3a"
             ],
             [
              0.8888888888888888,
              "#fdca26"
             ],
             [
              1,
              "#f0f921"
             ]
            ],
            "type": "heatmapgl"
           }
          ],
          "histogram": [
           {
            "marker": {
             "pattern": {
              "fillmode": "overlay",
              "size": 10,
              "solidity": 0.2
             }
            },
            "type": "histogram"
           }
          ],
          "histogram2d": [
           {
            "colorbar": {
             "outlinewidth": 0,
             "ticks": ""
            },
            "colorscale": [
             [
              0,
              "#0d0887"
             ],
             [
              0.1111111111111111,
              "#46039f"
             ],
             [
              0.2222222222222222,
              "#7201a8"
             ],
             [
              0.3333333333333333,
              "#9c179e"
             ],
             [
              0.4444444444444444,
              "#bd3786"
             ],
             [
              0.5555555555555556,
              "#d8576b"
             ],
             [
              0.6666666666666666,
              "#ed7953"
             ],
             [
              0.7777777777777778,
              "#fb9f3a"
             ],
             [
              0.8888888888888888,
              "#fdca26"
             ],
             [
              1,
              "#f0f921"
             ]
            ],
            "type": "histogram2d"
           }
          ],
          "histogram2dcontour": [
           {
            "colorbar": {
             "outlinewidth": 0,
             "ticks": ""
            },
            "colorscale": [
             [
              0,
              "#0d0887"
             ],
             [
              0.1111111111111111,
              "#46039f"
             ],
             [
              0.2222222222222222,
              "#7201a8"
             ],
             [
              0.3333333333333333,
              "#9c179e"
             ],
             [
              0.4444444444444444,
              "#bd3786"
             ],
             [
              0.5555555555555556,
              "#d8576b"
             ],
             [
              0.6666666666666666,
              "#ed7953"
             ],
             [
              0.7777777777777778,
              "#fb9f3a"
             ],
             [
              0.8888888888888888,
              "#fdca26"
             ],
             [
              1,
              "#f0f921"
             ]
            ],
            "type": "histogram2dcontour"
           }
          ],
          "mesh3d": [
           {
            "colorbar": {
             "outlinewidth": 0,
             "ticks": ""
            },
            "type": "mesh3d"
           }
          ],
          "parcoords": [
           {
            "line": {
             "colorbar": {
              "outlinewidth": 0,
              "ticks": ""
             }
            },
            "type": "parcoords"
           }
          ],
          "pie": [
           {
            "automargin": true,
            "type": "pie"
           }
          ],
          "scatter": [
           {
            "fillpattern": {
             "fillmode": "overlay",
             "size": 10,
             "solidity": 0.2
            },
            "type": "scatter"
           }
          ],
          "scatter3d": [
           {
            "line": {
             "colorbar": {
              "outlinewidth": 0,
              "ticks": ""
             }
            },
            "marker": {
             "colorbar": {
              "outlinewidth": 0,
              "ticks": ""
             }
            },
            "type": "scatter3d"
           }
          ],
          "scattercarpet": [
           {
            "marker": {
             "colorbar": {
              "outlinewidth": 0,
              "ticks": ""
             }
            },
            "type": "scattercarpet"
           }
          ],
          "scattergeo": [
           {
            "marker": {
             "colorbar": {
              "outlinewidth": 0,
              "ticks": ""
             }
            },
            "type": "scattergeo"
           }
          ],
          "scattergl": [
           {
            "marker": {
             "colorbar": {
              "outlinewidth": 0,
              "ticks": ""
             }
            },
            "type": "scattergl"
           }
          ],
          "scattermapbox": [
           {
            "marker": {
             "colorbar": {
              "outlinewidth": 0,
              "ticks": ""
             }
            },
            "type": "scattermapbox"
           }
          ],
          "scatterpolar": [
           {
            "marker": {
             "colorbar": {
              "outlinewidth": 0,
              "ticks": ""
             }
            },
            "type": "scatterpolar"
           }
          ],
          "scatterpolargl": [
           {
            "marker": {
             "colorbar": {
              "outlinewidth": 0,
              "ticks": ""
             }
            },
            "type": "scatterpolargl"
           }
          ],
          "scatterternary": [
           {
            "marker": {
             "colorbar": {
              "outlinewidth": 0,
              "ticks": ""
             }
            },
            "type": "scatterternary"
           }
          ],
          "surface": [
           {
            "colorbar": {
             "outlinewidth": 0,
             "ticks": ""
            },
            "colorscale": [
             [
              0,
              "#0d0887"
             ],
             [
              0.1111111111111111,
              "#46039f"
             ],
             [
              0.2222222222222222,
              "#7201a8"
             ],
             [
              0.3333333333333333,
              "#9c179e"
             ],
             [
              0.4444444444444444,
              "#bd3786"
             ],
             [
              0.5555555555555556,
              "#d8576b"
             ],
             [
              0.6666666666666666,
              "#ed7953"
             ],
             [
              0.7777777777777778,
              "#fb9f3a"
             ],
             [
              0.8888888888888888,
              "#fdca26"
             ],
             [
              1,
              "#f0f921"
             ]
            ],
            "type": "surface"
           }
          ],
          "table": [
           {
            "cells": {
             "fill": {
              "color": "#EBF0F8"
             },
             "line": {
              "color": "white"
             }
            },
            "header": {
             "fill": {
              "color": "#C8D4E3"
             },
             "line": {
              "color": "white"
             }
            },
            "type": "table"
           }
          ]
         },
         "layout": {
          "annotationdefaults": {
           "arrowcolor": "#2a3f5f",
           "arrowhead": 0,
           "arrowwidth": 1
          },
          "autotypenumbers": "strict",
          "coloraxis": {
           "colorbar": {
            "outlinewidth": 0,
            "ticks": ""
           }
          },
          "colorscale": {
           "diverging": [
            [
             0,
             "#8e0152"
            ],
            [
             0.1,
             "#c51b7d"
            ],
            [
             0.2,
             "#de77ae"
            ],
            [
             0.3,
             "#f1b6da"
            ],
            [
             0.4,
             "#fde0ef"
            ],
            [
             0.5,
             "#f7f7f7"
            ],
            [
             0.6,
             "#e6f5d0"
            ],
            [
             0.7,
             "#b8e186"
            ],
            [
             0.8,
             "#7fbc41"
            ],
            [
             0.9,
             "#4d9221"
            ],
            [
             1,
             "#276419"
            ]
           ],
           "sequential": [
            [
             0,
             "#0d0887"
            ],
            [
             0.1111111111111111,
             "#46039f"
            ],
            [
             0.2222222222222222,
             "#7201a8"
            ],
            [
             0.3333333333333333,
             "#9c179e"
            ],
            [
             0.4444444444444444,
             "#bd3786"
            ],
            [
             0.5555555555555556,
             "#d8576b"
            ],
            [
             0.6666666666666666,
             "#ed7953"
            ],
            [
             0.7777777777777778,
             "#fb9f3a"
            ],
            [
             0.8888888888888888,
             "#fdca26"
            ],
            [
             1,
             "#f0f921"
            ]
           ],
           "sequentialminus": [
            [
             0,
             "#0d0887"
            ],
            [
             0.1111111111111111,
             "#46039f"
            ],
            [
             0.2222222222222222,
             "#7201a8"
            ],
            [
             0.3333333333333333,
             "#9c179e"
            ],
            [
             0.4444444444444444,
             "#bd3786"
            ],
            [
             0.5555555555555556,
             "#d8576b"
            ],
            [
             0.6666666666666666,
             "#ed7953"
            ],
            [
             0.7777777777777778,
             "#fb9f3a"
            ],
            [
             0.8888888888888888,
             "#fdca26"
            ],
            [
             1,
             "#f0f921"
            ]
           ]
          },
          "colorway": [
           "#636efa",
           "#EF553B",
           "#00cc96",
           "#ab63fa",
           "#FFA15A",
           "#19d3f3",
           "#FF6692",
           "#B6E880",
           "#FF97FF",
           "#FECB52"
          ],
          "font": {
           "color": "#2a3f5f"
          },
          "geo": {
           "bgcolor": "white",
           "lakecolor": "white",
           "landcolor": "#E5ECF6",
           "showlakes": true,
           "showland": true,
           "subunitcolor": "white"
          },
          "hoverlabel": {
           "align": "left"
          },
          "hovermode": "closest",
          "mapbox": {
           "style": "light"
          },
          "paper_bgcolor": "white",
          "plot_bgcolor": "#E5ECF6",
          "polar": {
           "angularaxis": {
            "gridcolor": "white",
            "linecolor": "white",
            "ticks": ""
           },
           "bgcolor": "#E5ECF6",
           "radialaxis": {
            "gridcolor": "white",
            "linecolor": "white",
            "ticks": ""
           }
          },
          "scene": {
           "xaxis": {
            "backgroundcolor": "#E5ECF6",
            "gridcolor": "white",
            "gridwidth": 2,
            "linecolor": "white",
            "showbackground": true,
            "ticks": "",
            "zerolinecolor": "white"
           },
           "yaxis": {
            "backgroundcolor": "#E5ECF6",
            "gridcolor": "white",
            "gridwidth": 2,
            "linecolor": "white",
            "showbackground": true,
            "ticks": "",
            "zerolinecolor": "white"
           },
           "zaxis": {
            "backgroundcolor": "#E5ECF6",
            "gridcolor": "white",
            "gridwidth": 2,
            "linecolor": "white",
            "showbackground": true,
            "ticks": "",
            "zerolinecolor": "white"
           }
          },
          "shapedefaults": {
           "line": {
            "color": "#2a3f5f"
           }
          },
          "ternary": {
           "aaxis": {
            "gridcolor": "white",
            "linecolor": "white",
            "ticks": ""
           },
           "baxis": {
            "gridcolor": "white",
            "linecolor": "white",
            "ticks": ""
           },
           "bgcolor": "#E5ECF6",
           "caxis": {
            "gridcolor": "white",
            "linecolor": "white",
            "ticks": ""
           }
          },
          "title": {
           "x": 0.05
          },
          "xaxis": {
           "automargin": true,
           "gridcolor": "white",
           "linecolor": "white",
           "ticks": "",
           "title": {
            "standoff": 15
           },
           "zerolinecolor": "white",
           "zerolinewidth": 2
          },
          "yaxis": {
           "automargin": true,
           "gridcolor": "white",
           "linecolor": "white",
           "ticks": "",
           "title": {
            "standoff": 15
           },
           "zerolinecolor": "white",
           "zerolinewidth": 2
          }
         }
        },
        "title": {
         "text": "Intensivvårdade och avlidna relativt insjuknade per region"
        },
        "xaxis": {
         "anchor": "y",
         "domain": [
          0,
          1
         ],
         "title": {
          "text": ""
         }
        },
        "yaxis": {
         "anchor": "x",
         "domain": [
          0,
          1
         ],
         "title": {
          "text": "Relativt antal (%)"
         }
        }
       }
      }
     },
     "metadata": {},
     "output_type": "display_data"
    }
   ],
   "source": [
    "# Plotting new columns as function of Region\n",
    "fig = px.bar(\n",
    "    data_frame=df,\n",
    "    x=\"Region\",\n",
    "    y=[\"Relativt antal intensivvårdade (%)\", \"Relativt antal avlidna (%)\"],\n",
    "    title=\"Intensivvårdade och avlidna relativt insjuknade per region\",\n",
    "    labels={\"value\":\"Relativt antal (%)\", \"Region\":\"\"},\n",
    "    barmode=\"group\",\n",
    ")\n",
    "\n",
    "# replacing default labels in hover\n",
    "# ref https://stackoverflow.com/questions/60158618/plotly-how-to-add-elements-to-hover-data-using-plotly-express-piechart\n",
    "fig.update_traces(hovertemplate = \"Region:%{label}: <br>Relativt antal (%): %{value}\")\n",
    "\n",
    "# removing legend title which by default was \"variable\"\n",
    "fig.update_layout(legend={\"title_text\": \"\", })\n",
    "fig.show()\n",
    "\n",
    "fig.write_html(\"../Lab/Visualiseringar/plot_3_1.html\")\n"
   ]
  },
  {
   "cell_type": "markdown",
   "metadata": {},
   "source": [
    "# 2"
   ]
  },
  {
   "cell_type": "markdown",
   "metadata": {},
   "source": [
    "3 län med högsts antal avlidna relativt intensivvårdade och 3 län med lägst antal avlidna relativt intensivvårdade\n",
    "\n",
    "Svar:\n",
    "- Högst antal: Västmanland, Halland, Kalmar\n",
    "- Lägst antal: Uppsala, Norrbotten, Sörmland"
   ]
  },
  {
   "cell_type": "code",
   "execution_count": 76,
   "metadata": {},
   "outputs": [
    {
     "name": "stdout",
     "output_type": "stream",
     "text": [
      "highest_ratio=['Västmanland', 'Halland', 'Kalmar'], lowest_ratio=['Uppsala', 'Norrbotten', 'Sörmland']\n"
     ]
    }
   ],
   "source": [
    "# new column with ration dead/intensive care per region created and DataFrame sorted\n",
    "df[\"avlidna vs intensivvårdade\"] = df[\"Totalt_antal_avlidna\"]/df[\"Totalt_antal_intensivvårdade\"]\n",
    "df.sort_values(by=\"avlidna vs intensivvårdade\")\n",
    "highest_ratio = df.head(3)[\"Region\"].tolist()\n",
    "lowest_ratio = df.tail(3)[\"Region\"].tolist()\n",
    "print(f\"{highest_ratio=}, {lowest_ratio=}\")"
   ]
  },
  {
   "cell_type": "markdown",
   "metadata": {},
   "source": [
    "# 3"
   ]
  },
  {
   "cell_type": "markdown",
   "metadata": {},
   "source": [
    "Vaccination över tid i riket uppdelat på dos"
   ]
  },
  {
   "cell_type": "markdown",
   "metadata": {},
   "source": [
    "Strategi: \n",
    "- läsa in alla DataFrames\n",
    "- separera minst dos 1 och minst dos 2 i olika DataFrames, resterande är redan separerade\n",
    "- plocka ut endast rader för Sverige från varje DataFrame\n",
    "- slå ihop tidskolumnerna \n",
    "- lägga ihop data för dos 1, dos2, dos 3, dos 4, dos 5 i samma DataFrame\n",
    "- göra om tidsräkningen där v52 2020 sätts som 0\n",
    "- plotta"
   ]
  },
  {
   "cell_type": "code",
   "execution_count": 227,
   "metadata": {},
   "outputs": [
    {
     "data": {
      "text/html": [
       "<div>\n",
       "<style scoped>\n",
       "    .dataframe tbody tr th:only-of-type {\n",
       "        vertical-align: middle;\n",
       "    }\n",
       "\n",
       "    .dataframe tbody tr th {\n",
       "        vertical-align: top;\n",
       "    }\n",
       "\n",
       "    .dataframe thead th {\n",
       "        text-align: right;\n",
       "    }\n",
       "</style>\n",
       "<table border=\"1\" class=\"dataframe\">\n",
       "  <thead>\n",
       "    <tr style=\"text-align: right;\">\n",
       "      <th></th>\n",
       "      <th>Vecka</th>\n",
       "      <th>År</th>\n",
       "      <th>Region</th>\n",
       "      <th>Antal vaccinerade</th>\n",
       "      <th>Andel vaccinerade</th>\n",
       "      <th>Vaccinationsstatus</th>\n",
       "    </tr>\n",
       "  </thead>\n",
       "  <tbody>\n",
       "    <tr>\n",
       "      <th>0</th>\n",
       "      <td>52</td>\n",
       "      <td>2020</td>\n",
       "      <td>| Sverige |</td>\n",
       "      <td>1639</td>\n",
       "      <td>0.000180</td>\n",
       "      <td>Minst 1 dos</td>\n",
       "    </tr>\n",
       "    <tr>\n",
       "      <th>1</th>\n",
       "      <td>52</td>\n",
       "      <td>2020</td>\n",
       "      <td>| Sverige |</td>\n",
       "      <td>0</td>\n",
       "      <td>0.000000</td>\n",
       "      <td>Minst 2 doser</td>\n",
       "    </tr>\n",
       "    <tr>\n",
       "      <th>2</th>\n",
       "      <td>52</td>\n",
       "      <td>2020</td>\n",
       "      <td>Stockholm</td>\n",
       "      <td>201</td>\n",
       "      <td>0.000096</td>\n",
       "      <td>Minst 1 dos</td>\n",
       "    </tr>\n",
       "    <tr>\n",
       "      <th>3</th>\n",
       "      <td>52</td>\n",
       "      <td>2020</td>\n",
       "      <td>Stockholm</td>\n",
       "      <td>0</td>\n",
       "      <td>0.000000</td>\n",
       "      <td>Minst 2 doser</td>\n",
       "    </tr>\n",
       "    <tr>\n",
       "      <th>4</th>\n",
       "      <td>52</td>\n",
       "      <td>2020</td>\n",
       "      <td>Uppsala</td>\n",
       "      <td>5</td>\n",
       "      <td>0.000015</td>\n",
       "      <td>Minst 1 dos</td>\n",
       "    </tr>\n",
       "  </tbody>\n",
       "</table>\n",
       "</div>"
      ],
      "text/plain": [
       "   Vecka    År       Region  Antal vaccinerade  Andel vaccinerade  \\\n",
       "0     52  2020  | Sverige |               1639           0.000180   \n",
       "1     52  2020  | Sverige |                  0           0.000000   \n",
       "2     52  2020    Stockholm                201           0.000096   \n",
       "3     52  2020    Stockholm                  0           0.000000   \n",
       "4     52  2020      Uppsala                  5           0.000015   \n",
       "\n",
       "  Vaccinationsstatus  \n",
       "0        Minst 1 dos  \n",
       "1      Minst 2 doser  \n",
       "2        Minst 1 dos  \n",
       "3      Minst 2 doser  \n",
       "4        Minst 1 dos  "
      ]
     },
     "execution_count": 227,
     "metadata": {},
     "output_type": "execute_result"
    }
   ],
   "source": [
    "import pandas as pd\n",
    "\n",
    "# readin in relevant sheets into separate DataFrames\n",
    "path = \"../Lab/Data/vaccin.xlsx\"\n",
    "df_1_2 = pd.read_excel(path, sheet_name=\"Vaccinerade tidsserie\")\n",
    "df_3 = pd.read_excel(path, sheet_name=\"Vaccinerade tidsserie dos 3\")\n",
    "df_4 = pd.read_excel(path, sheet_name=\"Vaccinerade tidsserie dos 4\")\n",
    "df_5 = pd.read_excel(path, sheet_name=\"Vaccinerade tidsserie dos 5\")\n",
    "df_1_2.head()"
   ]
  },
  {
   "cell_type": "code",
   "execution_count": 228,
   "metadata": {},
   "outputs": [
    {
     "data": {
      "text/html": [
       "<div>\n",
       "<style scoped>\n",
       "    .dataframe tbody tr th:only-of-type {\n",
       "        vertical-align: middle;\n",
       "    }\n",
       "\n",
       "    .dataframe tbody tr th {\n",
       "        vertical-align: top;\n",
       "    }\n",
       "\n",
       "    .dataframe thead th {\n",
       "        text-align: right;\n",
       "    }\n",
       "</style>\n",
       "<table border=\"1\" class=\"dataframe\">\n",
       "  <thead>\n",
       "    <tr style=\"text-align: right;\">\n",
       "      <th></th>\n",
       "      <th>Vecka</th>\n",
       "      <th>År</th>\n",
       "      <th>Region</th>\n",
       "      <th>Antal vaccinerade</th>\n",
       "      <th>Andel vaccinerade</th>\n",
       "      <th>Vaccinationsstatus</th>\n",
       "    </tr>\n",
       "  </thead>\n",
       "  <tbody>\n",
       "    <tr>\n",
       "      <th>1</th>\n",
       "      <td>52</td>\n",
       "      <td>2020</td>\n",
       "      <td>| Sverige |</td>\n",
       "      <td>0</td>\n",
       "      <td>0.0</td>\n",
       "      <td>Minst 2 doser</td>\n",
       "    </tr>\n",
       "    <tr>\n",
       "      <th>3</th>\n",
       "      <td>52</td>\n",
       "      <td>2020</td>\n",
       "      <td>Stockholm</td>\n",
       "      <td>0</td>\n",
       "      <td>0.0</td>\n",
       "      <td>Minst 2 doser</td>\n",
       "    </tr>\n",
       "    <tr>\n",
       "      <th>5</th>\n",
       "      <td>52</td>\n",
       "      <td>2020</td>\n",
       "      <td>Uppsala</td>\n",
       "      <td>0</td>\n",
       "      <td>0.0</td>\n",
       "      <td>Minst 2 doser</td>\n",
       "    </tr>\n",
       "    <tr>\n",
       "      <th>7</th>\n",
       "      <td>52</td>\n",
       "      <td>2020</td>\n",
       "      <td>Södermanland</td>\n",
       "      <td>0</td>\n",
       "      <td>0.0</td>\n",
       "      <td>Minst 2 doser</td>\n",
       "    </tr>\n",
       "    <tr>\n",
       "      <th>9</th>\n",
       "      <td>52</td>\n",
       "      <td>2020</td>\n",
       "      <td>Östergötland</td>\n",
       "      <td>0</td>\n",
       "      <td>0.0</td>\n",
       "      <td>Minst 2 doser</td>\n",
       "    </tr>\n",
       "  </tbody>\n",
       "</table>\n",
       "</div>"
      ],
      "text/plain": [
       "   Vecka    År        Region  Antal vaccinerade  Andel vaccinerade  \\\n",
       "1     52  2020   | Sverige |                  0                0.0   \n",
       "3     52  2020     Stockholm                  0                0.0   \n",
       "5     52  2020       Uppsala                  0                0.0   \n",
       "7     52  2020  Södermanland                  0                0.0   \n",
       "9     52  2020  Östergötland                  0                0.0   \n",
       "\n",
       "  Vaccinationsstatus  \n",
       "1      Minst 2 doser  \n",
       "3      Minst 2 doser  \n",
       "5      Minst 2 doser  \n",
       "7      Minst 2 doser  \n",
       "9      Minst 2 doser  "
      ]
     },
     "execution_count": 228,
     "metadata": {},
     "output_type": "execute_result"
    }
   ],
   "source": [
    "# devide df_1_2 into separate dataframes for Minst 1 dos och Minst 2 doser\n",
    "df_1 = pd.DataFrame(df_1_2[df_1_2[\"Vaccinationsstatus\"].str.contains(\"1\")]) #??? måste jag göra om til DF manuellt????\n",
    "df_2 = pd.DataFrame(df_1_2[df_1_2[\"Vaccinationsstatus\"].str.contains(\"2\")])\n",
    "df_2.head()"
   ]
  },
  {
   "cell_type": "code",
   "execution_count": 229,
   "metadata": {},
   "outputs": [],
   "source": [
    "#?????????????????\n",
    "# from here a clean function or loop should be used to select rows and change name for column Antal vaccinerade\n",
    "\n",
    "#df_list = [df_1, df_2, df_3, df_4, df_5]\n",
    "# for df in df_list:\n",
    "    # clean function"
   ]
  },
  {
   "cell_type": "code",
   "execution_count": 230,
   "metadata": {},
   "outputs": [
    {
     "data": {
      "text/html": [
       "<div>\n",
       "<style scoped>\n",
       "    .dataframe tbody tr th:only-of-type {\n",
       "        vertical-align: middle;\n",
       "    }\n",
       "\n",
       "    .dataframe tbody tr th {\n",
       "        vertical-align: top;\n",
       "    }\n",
       "\n",
       "    .dataframe thead th {\n",
       "        text-align: right;\n",
       "    }\n",
       "</style>\n",
       "<table border=\"1\" class=\"dataframe\">\n",
       "  <thead>\n",
       "    <tr style=\"text-align: right;\">\n",
       "      <th></th>\n",
       "      <th>Vecka</th>\n",
       "      <th>År</th>\n",
       "      <th>Region</th>\n",
       "      <th>Antal vaccinerade</th>\n",
       "      <th>Andel vaccinerade</th>\n",
       "      <th>Vaccinationsstatus</th>\n",
       "    </tr>\n",
       "  </thead>\n",
       "  <tbody>\n",
       "    <tr>\n",
       "      <th>1</th>\n",
       "      <td>52</td>\n",
       "      <td>2020</td>\n",
       "      <td>| Sverige |</td>\n",
       "      <td>0</td>\n",
       "      <td>0.000000</td>\n",
       "      <td>Minst 2 doser</td>\n",
       "    </tr>\n",
       "    <tr>\n",
       "      <th>45</th>\n",
       "      <td>53</td>\n",
       "      <td>2020</td>\n",
       "      <td>| Sverige |</td>\n",
       "      <td>0</td>\n",
       "      <td>0.000000</td>\n",
       "      <td>Minst 2 doser</td>\n",
       "    </tr>\n",
       "    <tr>\n",
       "      <th>89</th>\n",
       "      <td>1</td>\n",
       "      <td>2021</td>\n",
       "      <td>| Sverige |</td>\n",
       "      <td>0</td>\n",
       "      <td>0.000000</td>\n",
       "      <td>Minst 2 doser</td>\n",
       "    </tr>\n",
       "    <tr>\n",
       "      <th>133</th>\n",
       "      <td>2</td>\n",
       "      <td>2021</td>\n",
       "      <td>| Sverige |</td>\n",
       "      <td>68</td>\n",
       "      <td>0.000007</td>\n",
       "      <td>Minst 2 doser</td>\n",
       "    </tr>\n",
       "    <tr>\n",
       "      <th>177</th>\n",
       "      <td>3</td>\n",
       "      <td>2021</td>\n",
       "      <td>| Sverige |</td>\n",
       "      <td>7995</td>\n",
       "      <td>0.000879</td>\n",
       "      <td>Minst 2 doser</td>\n",
       "    </tr>\n",
       "  </tbody>\n",
       "</table>\n",
       "</div>"
      ],
      "text/plain": [
       "     Vecka    År       Region  Antal vaccinerade  Andel vaccinerade  \\\n",
       "1       52  2020  | Sverige |                  0           0.000000   \n",
       "45      53  2020  | Sverige |                  0           0.000000   \n",
       "89       1  2021  | Sverige |                  0           0.000000   \n",
       "133      2  2021  | Sverige |                 68           0.000007   \n",
       "177      3  2021  | Sverige |               7995           0.000879   \n",
       "\n",
       "    Vaccinationsstatus  \n",
       "1        Minst 2 doser  \n",
       "45       Minst 2 doser  \n",
       "89       Minst 2 doser  \n",
       "133      Minst 2 doser  \n",
       "177      Minst 2 doser  "
      ]
     },
     "execution_count": 230,
     "metadata": {},
     "output_type": "execute_result"
    }
   ],
   "source": [
    "# select only rows containing Sverige in column Region\n",
    "df_1 = df_1[df_1[\"Region\"].str.contains(\"Sverige\")]\n",
    "df_2 = df_2[df_2[\"Region\"].str.contains(\"Sverige\")]\n",
    "df_3 = df_3[df_3[\"Region\"].str.contains(\"Sverige\")]\n",
    "df_4 = df_4[df_4[\"Region\"].str.contains(\"Sverige\")]\n",
    "df_5 = df_5[df_5[\"Region\"].str.contains(\"Sverige\")]\n",
    "\n",
    "df_2.head()\n",
    "\n",
    "#????????? should be included in clean function????????????"
   ]
  },
  {
   "cell_type": "code",
   "execution_count": 235,
   "metadata": {},
   "outputs": [
    {
     "data": {
      "text/html": [
       "<div>\n",
       "<style scoped>\n",
       "    .dataframe tbody tr th:only-of-type {\n",
       "        vertical-align: middle;\n",
       "    }\n",
       "\n",
       "    .dataframe tbody tr th {\n",
       "        vertical-align: top;\n",
       "    }\n",
       "\n",
       "    .dataframe thead th {\n",
       "        text-align: right;\n",
       "    }\n",
       "</style>\n",
       "<table border=\"1\" class=\"dataframe\">\n",
       "  <thead>\n",
       "    <tr style=\"text-align: right;\">\n",
       "      <th></th>\n",
       "      <th>Vecka</th>\n",
       "      <th>År</th>\n",
       "      <th>Region</th>\n",
       "      <th>Antal vaccinerade</th>\n",
       "      <th>Andel vaccinerade</th>\n",
       "      <th>Vaccinationsstatus</th>\n",
       "      <th>År_v</th>\n",
       "    </tr>\n",
       "  </thead>\n",
       "  <tbody>\n",
       "    <tr>\n",
       "      <th>0</th>\n",
       "      <td>33</td>\n",
       "      <td>2022</td>\n",
       "      <td>| Sverige |</td>\n",
       "      <td>1158</td>\n",
       "      <td>0.000529</td>\n",
       "      <td>5 doser</td>\n",
       "      <td>2022v33</td>\n",
       "    </tr>\n",
       "    <tr>\n",
       "      <th>22</th>\n",
       "      <td>34</td>\n",
       "      <td>2022</td>\n",
       "      <td>| Sverige |</td>\n",
       "      <td>7569</td>\n",
       "      <td>0.003457</td>\n",
       "      <td>5 doser</td>\n",
       "      <td>2022v34</td>\n",
       "    </tr>\n",
       "    <tr>\n",
       "      <th>44</th>\n",
       "      <td>35</td>\n",
       "      <td>2022</td>\n",
       "      <td>| Sverige |</td>\n",
       "      <td>114683</td>\n",
       "      <td>0.052382</td>\n",
       "      <td>5 doser</td>\n",
       "      <td>2022v35</td>\n",
       "    </tr>\n",
       "    <tr>\n",
       "      <th>66</th>\n",
       "      <td>36</td>\n",
       "      <td>2022</td>\n",
       "      <td>| Sverige |</td>\n",
       "      <td>327897</td>\n",
       "      <td>0.149768</td>\n",
       "      <td>5 doser</td>\n",
       "      <td>2022v36</td>\n",
       "    </tr>\n",
       "    <tr>\n",
       "      <th>88</th>\n",
       "      <td>37</td>\n",
       "      <td>2022</td>\n",
       "      <td>| Sverige |</td>\n",
       "      <td>521400</td>\n",
       "      <td>0.238152</td>\n",
       "      <td>5 doser</td>\n",
       "      <td>2022v37</td>\n",
       "    </tr>\n",
       "  </tbody>\n",
       "</table>\n",
       "</div>"
      ],
      "text/plain": [
       "    Vecka    År       Region  Antal vaccinerade  Andel vaccinerade  \\\n",
       "0      33  2022  | Sverige |               1158           0.000529   \n",
       "22     34  2022  | Sverige |               7569           0.003457   \n",
       "44     35  2022  | Sverige |             114683           0.052382   \n",
       "66     36  2022  | Sverige |             327897           0.149768   \n",
       "88     37  2022  | Sverige |             521400           0.238152   \n",
       "\n",
       "   Vaccinationsstatus     År_v  \n",
       "0             5 doser  2022v33  \n",
       "22            5 doser  2022v34  \n",
       "44            5 doser  2022v35  \n",
       "66            5 doser  2022v36  \n",
       "88            5 doser  2022v37  "
      ]
     },
     "execution_count": 235,
     "metadata": {},
     "output_type": "execute_result"
    }
   ],
   "source": [
    "# combinde cols Vecka and År\n",
    "df_1[\"År_v\"] = df_1[\"År\"].astype(str) + \"v\" + df_1[\"Vecka\"].astype(str)\n",
    "df_2[\"År_v\"] = df_2[\"År\"].astype(str) + \"v\" + df_2[\"Vecka\"].astype(str)\n",
    "df_3[\"År_v\"] = df_3[\"År\"].astype(str) + \"v\" + df_3[\"Vecka\"].astype(str)\n",
    "df_4[\"År_v\"] = df_4[\"År\"].astype(str) + \"v\" + df_4[\"Vecka\"].astype(str)\n",
    "df_5[\"År_v\"] = df_5[\"År\"].astype(str) + \"v\" + df_5[\"Vecka\"].astype(str)\n",
    "df_5.head()\n",
    "\n",
    "#????????? should be included in clean function????????????"
   ]
  },
  {
   "cell_type": "code",
   "execution_count": 236,
   "metadata": {},
   "outputs": [
    {
     "data": {
      "text/html": [
       "<div>\n",
       "<style scoped>\n",
       "    .dataframe tbody tr th:only-of-type {\n",
       "        vertical-align: middle;\n",
       "    }\n",
       "\n",
       "    .dataframe tbody tr th {\n",
       "        vertical-align: top;\n",
       "    }\n",
       "\n",
       "    .dataframe thead th {\n",
       "        text-align: right;\n",
       "    }\n",
       "</style>\n",
       "<table border=\"1\" class=\"dataframe\">\n",
       "  <thead>\n",
       "    <tr style=\"text-align: right;\">\n",
       "      <th></th>\n",
       "      <th>Vecka</th>\n",
       "      <th>År</th>\n",
       "      <th>Region</th>\n",
       "      <th>Antal vaccinerade</th>\n",
       "      <th>Andel vaccinerade</th>\n",
       "      <th>Vaccinationsstatus</th>\n",
       "    </tr>\n",
       "    <tr>\n",
       "      <th>År_v</th>\n",
       "      <th></th>\n",
       "      <th></th>\n",
       "      <th></th>\n",
       "      <th></th>\n",
       "      <th></th>\n",
       "      <th></th>\n",
       "    </tr>\n",
       "  </thead>\n",
       "  <tbody>\n",
       "    <tr>\n",
       "      <th>2022v33</th>\n",
       "      <td>33</td>\n",
       "      <td>2022</td>\n",
       "      <td>| Sverige |</td>\n",
       "      <td>1158</td>\n",
       "      <td>0.000529</td>\n",
       "      <td>5 doser</td>\n",
       "    </tr>\n",
       "    <tr>\n",
       "      <th>2022v34</th>\n",
       "      <td>34</td>\n",
       "      <td>2022</td>\n",
       "      <td>| Sverige |</td>\n",
       "      <td>7569</td>\n",
       "      <td>0.003457</td>\n",
       "      <td>5 doser</td>\n",
       "    </tr>\n",
       "    <tr>\n",
       "      <th>2022v35</th>\n",
       "      <td>35</td>\n",
       "      <td>2022</td>\n",
       "      <td>| Sverige |</td>\n",
       "      <td>114683</td>\n",
       "      <td>0.052382</td>\n",
       "      <td>5 doser</td>\n",
       "    </tr>\n",
       "    <tr>\n",
       "      <th>2022v36</th>\n",
       "      <td>36</td>\n",
       "      <td>2022</td>\n",
       "      <td>| Sverige |</td>\n",
       "      <td>327897</td>\n",
       "      <td>0.149768</td>\n",
       "      <td>5 doser</td>\n",
       "    </tr>\n",
       "    <tr>\n",
       "      <th>2022v37</th>\n",
       "      <td>37</td>\n",
       "      <td>2022</td>\n",
       "      <td>| Sverige |</td>\n",
       "      <td>521400</td>\n",
       "      <td>0.238152</td>\n",
       "      <td>5 doser</td>\n",
       "    </tr>\n",
       "  </tbody>\n",
       "</table>\n",
       "</div>"
      ],
      "text/plain": [
       "         Vecka    År       Region  Antal vaccinerade  Andel vaccinerade  \\\n",
       "År_v                                                                      \n",
       "2022v33     33  2022  | Sverige |               1158           0.000529   \n",
       "2022v34     34  2022  | Sverige |               7569           0.003457   \n",
       "2022v35     35  2022  | Sverige |             114683           0.052382   \n",
       "2022v36     36  2022  | Sverige |             327897           0.149768   \n",
       "2022v37     37  2022  | Sverige |             521400           0.238152   \n",
       "\n",
       "        Vaccinationsstatus  \n",
       "År_v                        \n",
       "2022v33            5 doser  \n",
       "2022v34            5 doser  \n",
       "2022v35            5 doser  \n",
       "2022v36            5 doser  \n",
       "2022v37            5 doser  "
      ]
     },
     "execution_count": 236,
     "metadata": {},
     "output_type": "execute_result"
    }
   ],
   "source": [
    "# set År_v col as index to prepare concatination\n",
    "df_1 = df_1.set_index(\"År_v\")\n",
    "df_2 = df_2.set_index(\"År_v\")\n",
    "df_3 = df_3.set_index(\"År_v\")\n",
    "df_4 = df_4.set_index(\"År_v\")\n",
    "df_5 = df_5.set_index(\"År_v\")\n",
    "df_5.head()\n",
    "\n",
    "\n",
    "#????????? should be included in clean function????????????"
   ]
  },
  {
   "cell_type": "code",
   "execution_count": 237,
   "metadata": {},
   "outputs": [
    {
     "data": {
      "text/html": [
       "<div>\n",
       "<style scoped>\n",
       "    .dataframe tbody tr th:only-of-type {\n",
       "        vertical-align: middle;\n",
       "    }\n",
       "\n",
       "    .dataframe tbody tr th {\n",
       "        vertical-align: top;\n",
       "    }\n",
       "\n",
       "    .dataframe thead th {\n",
       "        text-align: right;\n",
       "    }\n",
       "</style>\n",
       "<table border=\"1\" class=\"dataframe\">\n",
       "  <thead>\n",
       "    <tr style=\"text-align: right;\">\n",
       "      <th></th>\n",
       "      <th>Vecka</th>\n",
       "      <th>År</th>\n",
       "      <th>Region</th>\n",
       "      <th>4 doser</th>\n",
       "      <th>Andel vaccinerade</th>\n",
       "      <th>Vaccinationsstatus</th>\n",
       "    </tr>\n",
       "    <tr>\n",
       "      <th>År_v</th>\n",
       "      <th></th>\n",
       "      <th></th>\n",
       "      <th></th>\n",
       "      <th></th>\n",
       "      <th></th>\n",
       "      <th></th>\n",
       "    </tr>\n",
       "  </thead>\n",
       "  <tbody>\n",
       "    <tr>\n",
       "      <th>2022v3</th>\n",
       "      <td>3</td>\n",
       "      <td>2022</td>\n",
       "      <td>| Sverige |</td>\n",
       "      <td>20</td>\n",
       "      <td>0.000002</td>\n",
       "      <td>4 doser</td>\n",
       "    </tr>\n",
       "    <tr>\n",
       "      <th>2022v4</th>\n",
       "      <td>4</td>\n",
       "      <td>2022</td>\n",
       "      <td>| Sverige |</td>\n",
       "      <td>1844</td>\n",
       "      <td>0.000221</td>\n",
       "      <td>4 doser</td>\n",
       "    </tr>\n",
       "    <tr>\n",
       "      <th>2022v5</th>\n",
       "      <td>5</td>\n",
       "      <td>2022</td>\n",
       "      <td>| Sverige |</td>\n",
       "      <td>6575</td>\n",
       "      <td>0.000788</td>\n",
       "      <td>4 doser</td>\n",
       "    </tr>\n",
       "    <tr>\n",
       "      <th>2022v6</th>\n",
       "      <td>6</td>\n",
       "      <td>2022</td>\n",
       "      <td>| Sverige |</td>\n",
       "      <td>12001</td>\n",
       "      <td>0.001438</td>\n",
       "      <td>4 doser</td>\n",
       "    </tr>\n",
       "    <tr>\n",
       "      <th>2022v7</th>\n",
       "      <td>7</td>\n",
       "      <td>2022</td>\n",
       "      <td>| Sverige |</td>\n",
       "      <td>23924</td>\n",
       "      <td>0.002866</td>\n",
       "      <td>4 doser</td>\n",
       "    </tr>\n",
       "  </tbody>\n",
       "</table>\n",
       "</div>"
      ],
      "text/plain": [
       "        Vecka    År       Region  4 doser  Andel vaccinerade  \\\n",
       "År_v                                                           \n",
       "2022v3      3  2022  | Sverige |       20           0.000002   \n",
       "2022v4      4  2022  | Sverige |     1844           0.000221   \n",
       "2022v5      5  2022  | Sverige |     6575           0.000788   \n",
       "2022v6      6  2022  | Sverige |    12001           0.001438   \n",
       "2022v7      7  2022  | Sverige |    23924           0.002866   \n",
       "\n",
       "       Vaccinationsstatus  \n",
       "År_v                       \n",
       "2022v3            4 doser  \n",
       "2022v4            4 doser  \n",
       "2022v5            4 doser  \n",
       "2022v6            4 doser  \n",
       "2022v7            4 doser  "
      ]
     },
     "execution_count": 237,
     "metadata": {},
     "output_type": "execute_result"
    }
   ],
   "source": [
    "# rename column Antal vaccinerade with values for Vaccinationsstatus\n",
    "df_1 = df_1.rename(columns={\"Antal vaccinerade\": df_1[\"Vaccinationsstatus\"][0]})\n",
    "df_2 = df_2.rename(columns={\"Antal vaccinerade\": df_2[\"Vaccinationsstatus\"][1]}) # varför måste denna vara [1]???\n",
    "df_3 = df_3.rename(columns={\"Antal vaccinerade\": df_3[\"Vaccinationsstatus\"][0]})\n",
    "df_4 = df_4.rename(columns={\"Antal vaccinerade\": df_4[\"Vaccinationsstatus\"][0]})\n",
    "df_5 = df_5.rename(columns={\"Antal vaccinerade\": df_5[\"Vaccinationsstatus\"][0]})\n",
    "df_4.head()\n",
    "\n",
    "#????????? should be included in clean function????????????\n"
   ]
  },
  {
   "cell_type": "code",
   "execution_count": 270,
   "metadata": {},
   "outputs": [
    {
     "data": {
      "text/plain": [
       "Index(['Vecka', 'År', 'Region', 'Minst 1 dos', 'Andel vaccinerade',\n",
       "       'Vaccinationsstatus', 'Vecka', 'År', 'Region', 'Minst 2 doser',\n",
       "       'Andel vaccinerade', 'Vaccinationsstatus', 'Vecka', 'År', 'Region',\n",
       "       '3 doser', 'Andel vaccinerade', 'Vaccinationsstatus', 'Vecka', 'År',\n",
       "       'Region', '4 doser', 'Andel vaccinerade', 'Vaccinationsstatus', 'Vecka',\n",
       "       'År', 'Region', '5 doser', 'Andel vaccinerade', 'Vaccinationsstatus'],\n",
       "      dtype='object')"
      ]
     },
     "execution_count": 270,
     "metadata": {},
     "output_type": "execute_result"
    }
   ],
   "source": [
    "# concatinating all DataFrames into 1 based on col \"År_v\"\n",
    "\n",
    "df_1_5 = pd.concat([df_1, df_2, df_3, df_4, df_5], axis = \"columns\")\n",
    "df_1_5.columns"
   ]
  },
  {
   "cell_type": "code",
   "execution_count": 271,
   "metadata": {},
   "outputs": [
    {
     "data": {
      "text/html": [
       "<div>\n",
       "<style scoped>\n",
       "    .dataframe tbody tr th:only-of-type {\n",
       "        vertical-align: middle;\n",
       "    }\n",
       "\n",
       "    .dataframe tbody tr th {\n",
       "        vertical-align: top;\n",
       "    }\n",
       "\n",
       "    .dataframe thead th {\n",
       "        text-align: right;\n",
       "    }\n",
       "</style>\n",
       "<table border=\"1\" class=\"dataframe\">\n",
       "  <thead>\n",
       "    <tr style=\"text-align: right;\">\n",
       "      <th></th>\n",
       "      <th>Veckor från start</th>\n",
       "      <th>År_v</th>\n",
       "      <th>Minst 1 dos</th>\n",
       "      <th>Minst 2 doser</th>\n",
       "      <th>3 doser</th>\n",
       "      <th>4 doser</th>\n",
       "      <th>5 doser</th>\n",
       "    </tr>\n",
       "  </thead>\n",
       "  <tbody>\n",
       "    <tr>\n",
       "      <th>0</th>\n",
       "      <td>0</td>\n",
       "      <td>2020v52</td>\n",
       "      <td>1639</td>\n",
       "      <td>0</td>\n",
       "      <td>0.0</td>\n",
       "      <td>0.0</td>\n",
       "      <td>0.0</td>\n",
       "    </tr>\n",
       "    <tr>\n",
       "      <th>1</th>\n",
       "      <td>1</td>\n",
       "      <td>2020v53</td>\n",
       "      <td>11446</td>\n",
       "      <td>0</td>\n",
       "      <td>0.0</td>\n",
       "      <td>0.0</td>\n",
       "      <td>0.0</td>\n",
       "    </tr>\n",
       "    <tr>\n",
       "      <th>2</th>\n",
       "      <td>2</td>\n",
       "      <td>2021v1</td>\n",
       "      <td>37904</td>\n",
       "      <td>0</td>\n",
       "      <td>0.0</td>\n",
       "      <td>0.0</td>\n",
       "      <td>0.0</td>\n",
       "    </tr>\n",
       "    <tr>\n",
       "      <th>3</th>\n",
       "      <td>3</td>\n",
       "      <td>2021v2</td>\n",
       "      <td>104762</td>\n",
       "      <td>68</td>\n",
       "      <td>0.0</td>\n",
       "      <td>0.0</td>\n",
       "      <td>0.0</td>\n",
       "    </tr>\n",
       "    <tr>\n",
       "      <th>4</th>\n",
       "      <td>4</td>\n",
       "      <td>2021v3</td>\n",
       "      <td>201575</td>\n",
       "      <td>7995</td>\n",
       "      <td>0.0</td>\n",
       "      <td>0.0</td>\n",
       "      <td>0.0</td>\n",
       "    </tr>\n",
       "    <tr>\n",
       "      <th>...</th>\n",
       "      <td>...</td>\n",
       "      <td>...</td>\n",
       "      <td>...</td>\n",
       "      <td>...</td>\n",
       "      <td>...</td>\n",
       "      <td>...</td>\n",
       "      <td>...</td>\n",
       "    </tr>\n",
       "    <tr>\n",
       "      <th>91</th>\n",
       "      <td>91</td>\n",
       "      <td>2022v38</td>\n",
       "      <td>7806988</td>\n",
       "      <td>7623561</td>\n",
       "      <td>5509988.0</td>\n",
       "      <td>2078006.0</td>\n",
       "      <td>693794.0</td>\n",
       "    </tr>\n",
       "    <tr>\n",
       "      <th>92</th>\n",
       "      <td>92</td>\n",
       "      <td>2022v39</td>\n",
       "      <td>7808072</td>\n",
       "      <td>7624734</td>\n",
       "      <td>5516559.0</td>\n",
       "      <td>2191428.0</td>\n",
       "      <td>837547.0</td>\n",
       "    </tr>\n",
       "    <tr>\n",
       "      <th>93</th>\n",
       "      <td>93</td>\n",
       "      <td>2022v40</td>\n",
       "      <td>7808932</td>\n",
       "      <td>7625775</td>\n",
       "      <td>5522022.0</td>\n",
       "      <td>2285018.0</td>\n",
       "      <td>942467.0</td>\n",
       "    </tr>\n",
       "    <tr>\n",
       "      <th>94</th>\n",
       "      <td>94</td>\n",
       "      <td>2022v41</td>\n",
       "      <td>7809738</td>\n",
       "      <td>7626723</td>\n",
       "      <td>5527028.0</td>\n",
       "      <td>2363358.0</td>\n",
       "      <td>1024426.0</td>\n",
       "    </tr>\n",
       "    <tr>\n",
       "      <th>95</th>\n",
       "      <td>95</td>\n",
       "      <td>2022v42</td>\n",
       "      <td>7810380</td>\n",
       "      <td>7627588</td>\n",
       "      <td>5531232.0</td>\n",
       "      <td>2427338.0</td>\n",
       "      <td>1084097.0</td>\n",
       "    </tr>\n",
       "  </tbody>\n",
       "</table>\n",
       "<p>96 rows × 7 columns</p>\n",
       "</div>"
      ],
      "text/plain": [
       "    Veckor från start     År_v  Minst 1 dos  Minst 2 doser    3 doser  \\\n",
       "0                   0  2020v52         1639              0        0.0   \n",
       "1                   1  2020v53        11446              0        0.0   \n",
       "2                   2   2021v1        37904              0        0.0   \n",
       "3                   3   2021v2       104762             68        0.0   \n",
       "4                   4   2021v3       201575           7995        0.0   \n",
       "..                ...      ...          ...            ...        ...   \n",
       "91                 91  2022v38      7806988        7623561  5509988.0   \n",
       "92                 92  2022v39      7808072        7624734  5516559.0   \n",
       "93                 93  2022v40      7808932        7625775  5522022.0   \n",
       "94                 94  2022v41      7809738        7626723  5527028.0   \n",
       "95                 95  2022v42      7810380        7627588  5531232.0   \n",
       "\n",
       "      4 doser    5 doser  \n",
       "0         0.0        0.0  \n",
       "1         0.0        0.0  \n",
       "2         0.0        0.0  \n",
       "3         0.0        0.0  \n",
       "4         0.0        0.0  \n",
       "..        ...        ...  \n",
       "91  2078006.0   693794.0  \n",
       "92  2191428.0   837547.0  \n",
       "93  2285018.0   942467.0  \n",
       "94  2363358.0  1024426.0  \n",
       "95  2427338.0  1084097.0  \n",
       "\n",
       "[96 rows x 7 columns]"
      ]
     },
     "execution_count": 271,
     "metadata": {},
     "output_type": "execute_result"
    }
   ],
   "source": [
    "# selecting relevant columns; replacing NaN with 0\n",
    "# resetting År_v as column, creating column index corresponding to weeks from start\n",
    "\n",
    "df_1_5 = df_1_5[['Minst 1 dos', 'Minst 2 doser', '3 doser', '4 doser', '5 doser']].fillna(0).reset_index().reset_index()\n",
    "df_1_5 = df_1_5.rename(columns={\"index\": \"Veckor från start\"})\n",
    "df_1_5"
   ]
  },
  {
   "cell_type": "code",
   "execution_count": 273,
   "metadata": {},
   "outputs": [
    {
     "data": {
      "application/vnd.plotly.v1+json": {
       "config": {
        "plotlyServerURL": "https://plot.ly"
       },
       "data": [
        {
         "hovertemplate": "variable=Minst 1 dos<br>Veckor från start=%{x}<br>Ackumulerat antal vaccinerade=%{y}<extra></extra>",
         "legendgroup": "Minst 1 dos",
         "line": {
          "color": "#636efa",
          "dash": "solid"
         },
         "marker": {
          "symbol": "circle"
         },
         "mode": "lines",
         "name": "Minst 1 dos",
         "orientation": "v",
         "showlegend": true,
         "type": "scatter",
         "x": [
          0,
          1,
          2,
          3,
          4,
          5,
          6,
          7,
          8,
          9,
          10,
          11,
          12,
          13,
          14,
          15,
          16,
          17,
          18,
          19,
          20,
          21,
          22,
          23,
          24,
          25,
          26,
          27,
          28,
          29,
          30,
          31,
          32,
          33,
          34,
          35,
          36,
          37,
          38,
          39,
          40,
          41,
          42,
          43,
          44,
          45,
          46,
          47,
          48,
          49,
          50,
          51,
          52,
          53,
          54,
          55,
          56,
          57,
          58,
          59,
          60,
          61,
          62,
          63,
          64,
          65,
          66,
          67,
          68,
          69,
          70,
          71,
          72,
          73,
          74,
          75,
          76,
          77,
          78,
          79,
          80,
          81,
          82,
          83,
          84,
          85,
          86,
          87,
          88,
          89,
          90,
          91,
          92,
          93,
          94,
          95
         ],
         "xaxis": "x",
         "y": [
          1639,
          11446,
          37904,
          104762,
          201575,
          261830,
          301381,
          344307,
          410031,
          505859,
          652141,
          828172,
          942734,
          1067874,
          1261144,
          1509402,
          1913842,
          2313356,
          2684030,
          3025754,
          3302999,
          3551968,
          3747345,
          3963534,
          4232642,
          4535636,
          4824641,
          5236274,
          5623430,
          5974171,
          6213589,
          6353434,
          6461907,
          6596732,
          6706484,
          6795487,
          6870593,
          6936190,
          6992713,
          7037377,
          7071534,
          7105030,
          7182082,
          7263796,
          7331798,
          7350308,
          7392839,
          7436060,
          7481557,
          7527756,
          7575225,
          7618309,
          7635867,
          7647798,
          7663577,
          7689215,
          7712153,
          7727110,
          7737359,
          7745669,
          7751684,
          7756581,
          7760153,
          7763223,
          7767247,
          7770068,
          7772547,
          7774771,
          7776581,
          7778740,
          7781027,
          7783296,
          7785646,
          7787850,
          7789531,
          7791108,
          7792178,
          7793390,
          7794292,
          7795272,
          7796251,
          7797364,
          7798274,
          7799174,
          7800121,
          7801073,
          7801923,
          7802657,
          7803511,
          7804676,
          7805859,
          7806988,
          7808072,
          7808932,
          7809738,
          7810380
         ],
         "yaxis": "y"
        },
        {
         "hovertemplate": "variable=Minst 2 doser<br>Veckor från start=%{x}<br>Ackumulerat antal vaccinerade=%{y}<extra></extra>",
         "legendgroup": "Minst 2 doser",
         "line": {
          "color": "#EF553B",
          "dash": "solid"
         },
         "marker": {
          "symbol": "circle"
         },
         "mode": "lines",
         "name": "Minst 2 doser",
         "orientation": "v",
         "showlegend": true,
         "type": "scatter",
         "x": [
          0,
          1,
          2,
          3,
          4,
          5,
          6,
          7,
          8,
          9,
          10,
          11,
          12,
          13,
          14,
          15,
          16,
          17,
          18,
          19,
          20,
          21,
          22,
          23,
          24,
          25,
          26,
          27,
          28,
          29,
          30,
          31,
          32,
          33,
          34,
          35,
          36,
          37,
          38,
          39,
          40,
          41,
          42,
          43,
          44,
          45,
          46,
          47,
          48,
          49,
          50,
          51,
          52,
          53,
          54,
          55,
          56,
          57,
          58,
          59,
          60,
          61,
          62,
          63,
          64,
          65,
          66,
          67,
          68,
          69,
          70,
          71,
          72,
          73,
          74,
          75,
          76,
          77,
          78,
          79,
          80,
          81,
          82,
          83,
          84,
          85,
          86,
          87,
          88,
          89,
          90,
          91,
          92,
          93,
          94,
          95
         ],
         "xaxis": "x",
         "y": [
          0,
          0,
          0,
          68,
          7995,
          27167,
          74745,
          138399,
          217545,
          269354,
          304367,
          340094,
          391030,
          455521,
          520504,
          611001,
          675251,
          712252,
          738998,
          852666,
          998577,
          1202206,
          1489437,
          1856431,
          2266849,
          2735248,
          3082807,
          3404134,
          3614219,
          3774147,
          3979298,
          4238955,
          4534918,
          4872012,
          5286218,
          5673722,
          5972500,
          6190307,
          6366819,
          6498001,
          6607094,
          6683214,
          6743806,
          6791730,
          6839471,
          6870767,
          6925270,
          6990097,
          7067029,
          7138205,
          7209067,
          7272369,
          7298572,
          7315862,
          7342973,
          7396660,
          7440649,
          7467457,
          7488599,
          7509928,
          7527132,
          7541187,
          7550410,
          7557750,
          7565133,
          7570469,
          7574734,
          7578212,
          7581012,
          7584191,
          7587494,
          7590415,
          7593434,
          7596565,
          7599448,
          7602430,
          7604816,
          7607333,
          7609145,
          7610854,
          7612231,
          7613537,
          7614573,
          7615458,
          7616338,
          7617356,
          7618382,
          7619174,
          7620147,
          7621229,
          7622412,
          7623561,
          7624734,
          7625775,
          7626723,
          7627588
         ],
         "yaxis": "y"
        },
        {
         "hovertemplate": "variable=3 doser<br>Veckor från start=%{x}<br>Ackumulerat antal vaccinerade=%{y}<extra></extra>",
         "legendgroup": "3 doser",
         "line": {
          "color": "#00cc96",
          "dash": "solid"
         },
         "marker": {
          "symbol": "circle"
         },
         "mode": "lines",
         "name": "3 doser",
         "orientation": "v",
         "showlegend": true,
         "type": "scatter",
         "x": [
          0,
          1,
          2,
          3,
          4,
          5,
          6,
          7,
          8,
          9,
          10,
          11,
          12,
          13,
          14,
          15,
          16,
          17,
          18,
          19,
          20,
          21,
          22,
          23,
          24,
          25,
          26,
          27,
          28,
          29,
          30,
          31,
          32,
          33,
          34,
          35,
          36,
          37,
          38,
          39,
          40,
          41,
          42,
          43,
          44,
          45,
          46,
          47,
          48,
          49,
          50,
          51,
          52,
          53,
          54,
          55,
          56,
          57,
          58,
          59,
          60,
          61,
          62,
          63,
          64,
          65,
          66,
          67,
          68,
          69,
          70,
          71,
          72,
          73,
          74,
          75,
          76,
          77,
          78,
          79,
          80,
          81,
          82,
          83,
          84,
          85,
          86,
          87,
          88,
          89,
          90,
          91,
          92,
          93,
          94,
          95
         ],
         "xaxis": "x",
         "y": [
          0,
          0,
          0,
          0,
          0,
          0,
          0,
          0,
          0,
          0,
          0,
          0,
          0,
          0,
          0,
          0,
          0,
          0,
          0,
          0,
          0,
          0,
          0,
          0,
          0,
          0,
          0,
          0,
          0,
          0,
          0,
          0,
          0,
          0,
          0,
          0,
          353,
          2023,
          8062,
          16517,
          27826,
          60274,
          121949,
          186864,
          269028,
          346840,
          560394,
          854047,
          1156661,
          1471089,
          1819097,
          2248535,
          2433597,
          2555275,
          2747500,
          3140407,
          3620195,
          4044039,
          4397353,
          4659255,
          4824122,
          4930178,
          4998679,
          5049590,
          5111136,
          5150863,
          5186471,
          5216054,
          5236337,
          5259487,
          5286924,
          5311725,
          5334656,
          5356133,
          5373272,
          5388719,
          5400084,
          5411270,
          5419331,
          5428440,
          5437303,
          5447583,
          5454709,
          5461087,
          5466990,
          5472845,
          5478635,
          5483918,
          5489379,
          5496164,
          5502955,
          5509988,
          5516559,
          5522022,
          5527028,
          5531232
         ],
         "yaxis": "y"
        },
        {
         "hovertemplate": "variable=4 doser<br>Veckor från start=%{x}<br>Ackumulerat antal vaccinerade=%{y}<extra></extra>",
         "legendgroup": "4 doser",
         "line": {
          "color": "#ab63fa",
          "dash": "solid"
         },
         "marker": {
          "symbol": "circle"
         },
         "mode": "lines",
         "name": "4 doser",
         "orientation": "v",
         "showlegend": true,
         "type": "scatter",
         "x": [
          0,
          1,
          2,
          3,
          4,
          5,
          6,
          7,
          8,
          9,
          10,
          11,
          12,
          13,
          14,
          15,
          16,
          17,
          18,
          19,
          20,
          21,
          22,
          23,
          24,
          25,
          26,
          27,
          28,
          29,
          30,
          31,
          32,
          33,
          34,
          35,
          36,
          37,
          38,
          39,
          40,
          41,
          42,
          43,
          44,
          45,
          46,
          47,
          48,
          49,
          50,
          51,
          52,
          53,
          54,
          55,
          56,
          57,
          58,
          59,
          60,
          61,
          62,
          63,
          64,
          65,
          66,
          67,
          68,
          69,
          70,
          71,
          72,
          73,
          74,
          75,
          76,
          77,
          78,
          79,
          80,
          81,
          82,
          83,
          84,
          85,
          86,
          87,
          88,
          89,
          90,
          91,
          92,
          93,
          94,
          95
         ],
         "xaxis": "x",
         "y": [
          0,
          0,
          0,
          0,
          0,
          0,
          0,
          0,
          0,
          0,
          0,
          0,
          0,
          0,
          0,
          0,
          0,
          0,
          0,
          0,
          0,
          0,
          0,
          0,
          0,
          0,
          0,
          0,
          0,
          0,
          0,
          0,
          0,
          0,
          0,
          0,
          0,
          0,
          0,
          0,
          0,
          0,
          0,
          0,
          0,
          0,
          0,
          0,
          0,
          0,
          0,
          0,
          0,
          0,
          0,
          0,
          20,
          1844,
          6575,
          12001,
          23924,
          62776,
          120956,
          191144,
          287106,
          354701,
          404048,
          572343,
          736299,
          923546,
          1112353,
          1248574,
          1350374,
          1428188,
          1476052,
          1517999,
          1547841,
          1573856,
          1588976,
          1603798,
          1617328,
          1633151,
          1644932,
          1656161,
          1666376,
          1675103,
          1684528,
          1698508,
          1754094,
          1850075,
          1956532,
          2078006,
          2191428,
          2285018,
          2363358,
          2427338
         ],
         "yaxis": "y"
        },
        {
         "hovertemplate": "variable=5 doser<br>Veckor från start=%{x}<br>Ackumulerat antal vaccinerade=%{y}<extra></extra>",
         "legendgroup": "5 doser",
         "line": {
          "color": "#FFA15A",
          "dash": "solid"
         },
         "marker": {
          "symbol": "circle"
         },
         "mode": "lines",
         "name": "5 doser",
         "orientation": "v",
         "showlegend": true,
         "type": "scatter",
         "x": [
          0,
          1,
          2,
          3,
          4,
          5,
          6,
          7,
          8,
          9,
          10,
          11,
          12,
          13,
          14,
          15,
          16,
          17,
          18,
          19,
          20,
          21,
          22,
          23,
          24,
          25,
          26,
          27,
          28,
          29,
          30,
          31,
          32,
          33,
          34,
          35,
          36,
          37,
          38,
          39,
          40,
          41,
          42,
          43,
          44,
          45,
          46,
          47,
          48,
          49,
          50,
          51,
          52,
          53,
          54,
          55,
          56,
          57,
          58,
          59,
          60,
          61,
          62,
          63,
          64,
          65,
          66,
          67,
          68,
          69,
          70,
          71,
          72,
          73,
          74,
          75,
          76,
          77,
          78,
          79,
          80,
          81,
          82,
          83,
          84,
          85,
          86,
          87,
          88,
          89,
          90,
          91,
          92,
          93,
          94,
          95
         ],
         "xaxis": "x",
         "y": [
          0,
          0,
          0,
          0,
          0,
          0,
          0,
          0,
          0,
          0,
          0,
          0,
          0,
          0,
          0,
          0,
          0,
          0,
          0,
          0,
          0,
          0,
          0,
          0,
          0,
          0,
          0,
          0,
          0,
          0,
          0,
          0,
          0,
          0,
          0,
          0,
          0,
          0,
          0,
          0,
          0,
          0,
          0,
          0,
          0,
          0,
          0,
          0,
          0,
          0,
          0,
          0,
          0,
          0,
          0,
          0,
          0,
          0,
          0,
          0,
          0,
          0,
          0,
          0,
          0,
          0,
          0,
          0,
          0,
          0,
          0,
          0,
          0,
          0,
          0,
          0,
          0,
          0,
          0,
          0,
          0,
          0,
          0,
          0,
          0,
          0,
          1158,
          7569,
          114683,
          327897,
          521400,
          693794,
          837547,
          942467,
          1024426,
          1084097
         ],
         "yaxis": "y"
        }
       ],
       "layout": {
        "legend": {
         "title": {
          "text": ""
         },
         "tracegroupgap": 0
        },
        "template": {
         "data": {
          "bar": [
           {
            "error_x": {
             "color": "#2a3f5f"
            },
            "error_y": {
             "color": "#2a3f5f"
            },
            "marker": {
             "line": {
              "color": "#E5ECF6",
              "width": 0.5
             },
             "pattern": {
              "fillmode": "overlay",
              "size": 10,
              "solidity": 0.2
             }
            },
            "type": "bar"
           }
          ],
          "barpolar": [
           {
            "marker": {
             "line": {
              "color": "#E5ECF6",
              "width": 0.5
             },
             "pattern": {
              "fillmode": "overlay",
              "size": 10,
              "solidity": 0.2
             }
            },
            "type": "barpolar"
           }
          ],
          "carpet": [
           {
            "aaxis": {
             "endlinecolor": "#2a3f5f",
             "gridcolor": "white",
             "linecolor": "white",
             "minorgridcolor": "white",
             "startlinecolor": "#2a3f5f"
            },
            "baxis": {
             "endlinecolor": "#2a3f5f",
             "gridcolor": "white",
             "linecolor": "white",
             "minorgridcolor": "white",
             "startlinecolor": "#2a3f5f"
            },
            "type": "carpet"
           }
          ],
          "choropleth": [
           {
            "colorbar": {
             "outlinewidth": 0,
             "ticks": ""
            },
            "type": "choropleth"
           }
          ],
          "contour": [
           {
            "colorbar": {
             "outlinewidth": 0,
             "ticks": ""
            },
            "colorscale": [
             [
              0,
              "#0d0887"
             ],
             [
              0.1111111111111111,
              "#46039f"
             ],
             [
              0.2222222222222222,
              "#7201a8"
             ],
             [
              0.3333333333333333,
              "#9c179e"
             ],
             [
              0.4444444444444444,
              "#bd3786"
             ],
             [
              0.5555555555555556,
              "#d8576b"
             ],
             [
              0.6666666666666666,
              "#ed7953"
             ],
             [
              0.7777777777777778,
              "#fb9f3a"
             ],
             [
              0.8888888888888888,
              "#fdca26"
             ],
             [
              1,
              "#f0f921"
             ]
            ],
            "type": "contour"
           }
          ],
          "contourcarpet": [
           {
            "colorbar": {
             "outlinewidth": 0,
             "ticks": ""
            },
            "type": "contourcarpet"
           }
          ],
          "heatmap": [
           {
            "colorbar": {
             "outlinewidth": 0,
             "ticks": ""
            },
            "colorscale": [
             [
              0,
              "#0d0887"
             ],
             [
              0.1111111111111111,
              "#46039f"
             ],
             [
              0.2222222222222222,
              "#7201a8"
             ],
             [
              0.3333333333333333,
              "#9c179e"
             ],
             [
              0.4444444444444444,
              "#bd3786"
             ],
             [
              0.5555555555555556,
              "#d8576b"
             ],
             [
              0.6666666666666666,
              "#ed7953"
             ],
             [
              0.7777777777777778,
              "#fb9f3a"
             ],
             [
              0.8888888888888888,
              "#fdca26"
             ],
             [
              1,
              "#f0f921"
             ]
            ],
            "type": "heatmap"
           }
          ],
          "heatmapgl": [
           {
            "colorbar": {
             "outlinewidth": 0,
             "ticks": ""
            },
            "colorscale": [
             [
              0,
              "#0d0887"
             ],
             [
              0.1111111111111111,
              "#46039f"
             ],
             [
              0.2222222222222222,
              "#7201a8"
             ],
             [
              0.3333333333333333,
              "#9c179e"
             ],
             [
              0.4444444444444444,
              "#bd3786"
             ],
             [
              0.5555555555555556,
              "#d8576b"
             ],
             [
              0.6666666666666666,
              "#ed7953"
             ],
             [
              0.7777777777777778,
              "#fb9f3a"
             ],
             [
              0.8888888888888888,
              "#fdca26"
             ],
             [
              1,
              "#f0f921"
             ]
            ],
            "type": "heatmapgl"
           }
          ],
          "histogram": [
           {
            "marker": {
             "pattern": {
              "fillmode": "overlay",
              "size": 10,
              "solidity": 0.2
             }
            },
            "type": "histogram"
           }
          ],
          "histogram2d": [
           {
            "colorbar": {
             "outlinewidth": 0,
             "ticks": ""
            },
            "colorscale": [
             [
              0,
              "#0d0887"
             ],
             [
              0.1111111111111111,
              "#46039f"
             ],
             [
              0.2222222222222222,
              "#7201a8"
             ],
             [
              0.3333333333333333,
              "#9c179e"
             ],
             [
              0.4444444444444444,
              "#bd3786"
             ],
             [
              0.5555555555555556,
              "#d8576b"
             ],
             [
              0.6666666666666666,
              "#ed7953"
             ],
             [
              0.7777777777777778,
              "#fb9f3a"
             ],
             [
              0.8888888888888888,
              "#fdca26"
             ],
             [
              1,
              "#f0f921"
             ]
            ],
            "type": "histogram2d"
           }
          ],
          "histogram2dcontour": [
           {
            "colorbar": {
             "outlinewidth": 0,
             "ticks": ""
            },
            "colorscale": [
             [
              0,
              "#0d0887"
             ],
             [
              0.1111111111111111,
              "#46039f"
             ],
             [
              0.2222222222222222,
              "#7201a8"
             ],
             [
              0.3333333333333333,
              "#9c179e"
             ],
             [
              0.4444444444444444,
              "#bd3786"
             ],
             [
              0.5555555555555556,
              "#d8576b"
             ],
             [
              0.6666666666666666,
              "#ed7953"
             ],
             [
              0.7777777777777778,
              "#fb9f3a"
             ],
             [
              0.8888888888888888,
              "#fdca26"
             ],
             [
              1,
              "#f0f921"
             ]
            ],
            "type": "histogram2dcontour"
           }
          ],
          "mesh3d": [
           {
            "colorbar": {
             "outlinewidth": 0,
             "ticks": ""
            },
            "type": "mesh3d"
           }
          ],
          "parcoords": [
           {
            "line": {
             "colorbar": {
              "outlinewidth": 0,
              "ticks": ""
             }
            },
            "type": "parcoords"
           }
          ],
          "pie": [
           {
            "automargin": true,
            "type": "pie"
           }
          ],
          "scatter": [
           {
            "fillpattern": {
             "fillmode": "overlay",
             "size": 10,
             "solidity": 0.2
            },
            "type": "scatter"
           }
          ],
          "scatter3d": [
           {
            "line": {
             "colorbar": {
              "outlinewidth": 0,
              "ticks": ""
             }
            },
            "marker": {
             "colorbar": {
              "outlinewidth": 0,
              "ticks": ""
             }
            },
            "type": "scatter3d"
           }
          ],
          "scattercarpet": [
           {
            "marker": {
             "colorbar": {
              "outlinewidth": 0,
              "ticks": ""
             }
            },
            "type": "scattercarpet"
           }
          ],
          "scattergeo": [
           {
            "marker": {
             "colorbar": {
              "outlinewidth": 0,
              "ticks": ""
             }
            },
            "type": "scattergeo"
           }
          ],
          "scattergl": [
           {
            "marker": {
             "colorbar": {
              "outlinewidth": 0,
              "ticks": ""
             }
            },
            "type": "scattergl"
           }
          ],
          "scattermapbox": [
           {
            "marker": {
             "colorbar": {
              "outlinewidth": 0,
              "ticks": ""
             }
            },
            "type": "scattermapbox"
           }
          ],
          "scatterpolar": [
           {
            "marker": {
             "colorbar": {
              "outlinewidth": 0,
              "ticks": ""
             }
            },
            "type": "scatterpolar"
           }
          ],
          "scatterpolargl": [
           {
            "marker": {
             "colorbar": {
              "outlinewidth": 0,
              "ticks": ""
             }
            },
            "type": "scatterpolargl"
           }
          ],
          "scatterternary": [
           {
            "marker": {
             "colorbar": {
              "outlinewidth": 0,
              "ticks": ""
             }
            },
            "type": "scatterternary"
           }
          ],
          "surface": [
           {
            "colorbar": {
             "outlinewidth": 0,
             "ticks": ""
            },
            "colorscale": [
             [
              0,
              "#0d0887"
             ],
             [
              0.1111111111111111,
              "#46039f"
             ],
             [
              0.2222222222222222,
              "#7201a8"
             ],
             [
              0.3333333333333333,
              "#9c179e"
             ],
             [
              0.4444444444444444,
              "#bd3786"
             ],
             [
              0.5555555555555556,
              "#d8576b"
             ],
             [
              0.6666666666666666,
              "#ed7953"
             ],
             [
              0.7777777777777778,
              "#fb9f3a"
             ],
             [
              0.8888888888888888,
              "#fdca26"
             ],
             [
              1,
              "#f0f921"
             ]
            ],
            "type": "surface"
           }
          ],
          "table": [
           {
            "cells": {
             "fill": {
              "color": "#EBF0F8"
             },
             "line": {
              "color": "white"
             }
            },
            "header": {
             "fill": {
              "color": "#C8D4E3"
             },
             "line": {
              "color": "white"
             }
            },
            "type": "table"
           }
          ]
         },
         "layout": {
          "annotationdefaults": {
           "arrowcolor": "#2a3f5f",
           "arrowhead": 0,
           "arrowwidth": 1
          },
          "autotypenumbers": "strict",
          "coloraxis": {
           "colorbar": {
            "outlinewidth": 0,
            "ticks": ""
           }
          },
          "colorscale": {
           "diverging": [
            [
             0,
             "#8e0152"
            ],
            [
             0.1,
             "#c51b7d"
            ],
            [
             0.2,
             "#de77ae"
            ],
            [
             0.3,
             "#f1b6da"
            ],
            [
             0.4,
             "#fde0ef"
            ],
            [
             0.5,
             "#f7f7f7"
            ],
            [
             0.6,
             "#e6f5d0"
            ],
            [
             0.7,
             "#b8e186"
            ],
            [
             0.8,
             "#7fbc41"
            ],
            [
             0.9,
             "#4d9221"
            ],
            [
             1,
             "#276419"
            ]
           ],
           "sequential": [
            [
             0,
             "#0d0887"
            ],
            [
             0.1111111111111111,
             "#46039f"
            ],
            [
             0.2222222222222222,
             "#7201a8"
            ],
            [
             0.3333333333333333,
             "#9c179e"
            ],
            [
             0.4444444444444444,
             "#bd3786"
            ],
            [
             0.5555555555555556,
             "#d8576b"
            ],
            [
             0.6666666666666666,
             "#ed7953"
            ],
            [
             0.7777777777777778,
             "#fb9f3a"
            ],
            [
             0.8888888888888888,
             "#fdca26"
            ],
            [
             1,
             "#f0f921"
            ]
           ],
           "sequentialminus": [
            [
             0,
             "#0d0887"
            ],
            [
             0.1111111111111111,
             "#46039f"
            ],
            [
             0.2222222222222222,
             "#7201a8"
            ],
            [
             0.3333333333333333,
             "#9c179e"
            ],
            [
             0.4444444444444444,
             "#bd3786"
            ],
            [
             0.5555555555555556,
             "#d8576b"
            ],
            [
             0.6666666666666666,
             "#ed7953"
            ],
            [
             0.7777777777777778,
             "#fb9f3a"
            ],
            [
             0.8888888888888888,
             "#fdca26"
            ],
            [
             1,
             "#f0f921"
            ]
           ]
          },
          "colorway": [
           "#636efa",
           "#EF553B",
           "#00cc96",
           "#ab63fa",
           "#FFA15A",
           "#19d3f3",
           "#FF6692",
           "#B6E880",
           "#FF97FF",
           "#FECB52"
          ],
          "font": {
           "color": "#2a3f5f"
          },
          "geo": {
           "bgcolor": "white",
           "lakecolor": "white",
           "landcolor": "#E5ECF6",
           "showlakes": true,
           "showland": true,
           "subunitcolor": "white"
          },
          "hoverlabel": {
           "align": "left"
          },
          "hovermode": "closest",
          "mapbox": {
           "style": "light"
          },
          "paper_bgcolor": "white",
          "plot_bgcolor": "#E5ECF6",
          "polar": {
           "angularaxis": {
            "gridcolor": "white",
            "linecolor": "white",
            "ticks": ""
           },
           "bgcolor": "#E5ECF6",
           "radialaxis": {
            "gridcolor": "white",
            "linecolor": "white",
            "ticks": ""
           }
          },
          "scene": {
           "xaxis": {
            "backgroundcolor": "#E5ECF6",
            "gridcolor": "white",
            "gridwidth": 2,
            "linecolor": "white",
            "showbackground": true,
            "ticks": "",
            "zerolinecolor": "white"
           },
           "yaxis": {
            "backgroundcolor": "#E5ECF6",
            "gridcolor": "white",
            "gridwidth": 2,
            "linecolor": "white",
            "showbackground": true,
            "ticks": "",
            "zerolinecolor": "white"
           },
           "zaxis": {
            "backgroundcolor": "#E5ECF6",
            "gridcolor": "white",
            "gridwidth": 2,
            "linecolor": "white",
            "showbackground": true,
            "ticks": "",
            "zerolinecolor": "white"
           }
          },
          "shapedefaults": {
           "line": {
            "color": "#2a3f5f"
           }
          },
          "ternary": {
           "aaxis": {
            "gridcolor": "white",
            "linecolor": "white",
            "ticks": ""
           },
           "baxis": {
            "gridcolor": "white",
            "linecolor": "white",
            "ticks": ""
           },
           "bgcolor": "#E5ECF6",
           "caxis": {
            "gridcolor": "white",
            "linecolor": "white",
            "ticks": ""
           }
          },
          "title": {
           "x": 0.05
          },
          "xaxis": {
           "automargin": true,
           "gridcolor": "white",
           "linecolor": "white",
           "ticks": "",
           "title": {
            "standoff": 15
           },
           "zerolinecolor": "white",
           "zerolinewidth": 2
          },
          "yaxis": {
           "automargin": true,
           "gridcolor": "white",
           "linecolor": "white",
           "ticks": "",
           "title": {
            "standoff": 15
           },
           "zerolinecolor": "white",
           "zerolinewidth": 2
          }
         }
        },
        "title": {
         "text": "Antal vaccinerade i Sverige per dos från vaccineringsstart v52 2020"
        },
        "xaxis": {
         "anchor": "y",
         "domain": [
          0,
          1
         ],
         "title": {
          "text": "Veckor från start"
         }
        },
        "yaxis": {
         "anchor": "x",
         "domain": [
          0,
          1
         ],
         "title": {
          "text": "Ackumulerat antal vaccinerade"
         }
        }
       }
      }
     },
     "metadata": {},
     "output_type": "display_data"
    }
   ],
   "source": [
    "import plotly_express as px\n",
    "\n",
    "fig = px.line(\n",
    "    df_1_5,\n",
    "    x=\"Veckor från start\",\n",
    "    y=[\"Minst 1 dos\", \"Minst 2 doser\", \"3 doser\", \"4 doser\", \"5 doser\"],\n",
    "    title=\"Antal vaccinerade i Sverige per dos från vaccineringsstart v52 2020\",\n",
    "    labels={\"value\" : \"Ackumulerat antal vaccinerade\"}\n",
    ")\n",
    "fig.update_layout(legend={'title_text':''})\n",
    "fig.show()\n",
    "\n",
    "fig.write_html(\"../Lab/Visualiseringar/plot_3_3.html\")"
   ]
  },
  {
   "cell_type": "markdown",
   "metadata": {},
   "source": [
    "# 4"
   ]
  },
  {
   "cell_type": "markdown",
   "metadata": {},
   "source": [
    "Tidsutveckling för total insjuknade i riket jämfört med vaccinerade i riket"
   ]
  },
  {
   "cell_type": "markdown",
   "metadata": {},
   "source": []
  }
 ],
 "metadata": {
  "kernelspec": {
   "display_name": "Python 3.9.13 ('Databehandling-Dorota-Bjoorn-jxKP5yN8')",
   "language": "python",
   "name": "python3"
  },
  "language_info": {
   "codemirror_mode": {
    "name": "ipython",
    "version": 3
   },
   "file_extension": ".py",
   "mimetype": "text/x-python",
   "name": "python",
   "nbconvert_exporter": "python",
   "pygments_lexer": "ipython3",
   "version": "3.9.13"
  },
  "orig_nbformat": 4,
  "vscode": {
   "interpreter": {
    "hash": "3bcad62de4ced59432ab76a1ab7a518764b5efaffdc10b6bc78c6b8e3bf69931"
   }
  }
 },
 "nbformat": 4,
 "nbformat_minor": 2
}
