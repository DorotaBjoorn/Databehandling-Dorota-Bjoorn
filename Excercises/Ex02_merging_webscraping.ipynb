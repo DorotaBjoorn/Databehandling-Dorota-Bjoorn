{
 "cells": [
  {
   "cell_type": "markdown",
   "metadata": {},
   "source": [
    "# 1"
   ]
  },
  {
   "cell_type": "code",
   "execution_count": 1,
   "metadata": {},
   "outputs": [],
   "source": [
    "import pandas as pd\n",
    "import seaborn as sns\n",
    "import matplotlib.pyplot as plt"
   ]
  },
  {
   "cell_type": "markdown",
   "metadata": {},
   "source": [
    "#### a)"
   ]
  },
  {
   "cell_type": "code",
   "execution_count": 2,
   "metadata": {},
   "outputs": [
    {
     "data": {
      "text/plain": [
       "1"
      ]
     },
     "execution_count": 2,
     "metadata": {},
     "output_type": "execute_result"
    }
   ],
   "source": [
    "# read in from site and find a unique table containing as indicated by match =\n",
    "# len(bef_stat) returns 1 confirming only 1 table exists\n",
    "# decimal = \",\" indicates that 25,7 is a float and thousands = \" \" indikerar att 5 000 000 är 5000000\n",
    "# om bara indikerar decimal = \",\" blir det fel eftersom thousands = \",\" är default vilket ger \",\" för både decimal och thousands\n",
    "\n",
    "bef_1900_2021 = pd.read_html(\n",
    "    \"https://sv.wikipedia.org/wiki/Sveriges_demografi\",\n",
    "    match=\"Naturlig befolkningsförändring\",\n",
    "    decimal=\",\",\n",
    "    thousands=\" \",\n",
    ")\n",
    "\n",
    "len(bef_1900_2021)\n"
   ]
  },
  {
   "cell_type": "code",
   "execution_count": 3,
   "metadata": {},
   "outputs": [
    {
     "data": {
      "text/plain": [
       "[     Unnamed: 0  Medel- folkmängd   Födda   Döda  \\\n",
       " 0          1900         5117000.0  138139  86146   \n",
       " 1          1901         5156000.0  139370  82772   \n",
       " 2          1902         5187000.0  137364  79722   \n",
       " 3          1903         5210000.0  133896  78610   \n",
       " 4          1904         5241000.0  134952  80152   \n",
       " ..          ...               ...     ...    ...   \n",
       " 117        2017        10057697.5  115416  91972   \n",
       " 118        2018        10175213.5  115832  92185   \n",
       " 119        2019        10278887.0  114523  88766   \n",
       " 120        2020        10353442.0  113077  98124   \n",
       " 121        2021        10415810.5  114263  91958   \n",
       " \n",
       "      Naturlig befolkningsförändring  Nativitet (per 1000)  Dödstal (per 1000)  \\\n",
       " 0                             51993                  27.0                16.8   \n",
       " 1                             56598                  27.0                16.1   \n",
       " 2                             57642                  26.5                15.4   \n",
       " 3                             55286                  25.7                15.1   \n",
       " 4                             54800                  25.7                15.3   \n",
       " ..                              ...                   ...                 ...   \n",
       " 117                           23444                  11.4                 9.1   \n",
       " 118                           23647                  11.3                 9.0   \n",
       " 119                           28727                  11.1                 8.7   \n",
       " 120                           14953                  10.9                 9.5   \n",
       " 121                           22305                  11.0                 8.8   \n",
       " \n",
       "      Naturlig befolkningsförändring (per 1000)  Total fertilitet  \n",
       " 0                                         10.2              4.02  \n",
       " 1                                         11.0              4.04  \n",
       " 2                                         11.1              3.95  \n",
       " 3                                         10.6              3.82  \n",
       " 4                                         10.5              3.83  \n",
       " ..                                         ...               ...  \n",
       " 117                                        2.3              1.79  \n",
       " 118                                        2.3              1.75  \n",
       " 119                                        2.4              1.70  \n",
       " 120                                        1.4              1.66  \n",
       " 121                                        2.2               NaN  \n",
       " \n",
       " [122 rows x 9 columns]]"
      ]
     },
     "execution_count": 3,
     "metadata": {},
     "output_type": "execute_result"
    }
   ],
   "source": [
    "#pringing table as it is - a list\n",
    "bef_1900_2021"
   ]
  },
  {
   "cell_type": "code",
   "execution_count": 5,
   "metadata": {},
   "outputs": [
    {
     "data": {
      "text/html": [
       "<div>\n",
       "<style scoped>\n",
       "    .dataframe tbody tr th:only-of-type {\n",
       "        vertical-align: middle;\n",
       "    }\n",
       "\n",
       "    .dataframe tbody tr th {\n",
       "        vertical-align: top;\n",
       "    }\n",
       "\n",
       "    .dataframe thead th {\n",
       "        text-align: right;\n",
       "    }\n",
       "</style>\n",
       "<table border=\"1\" class=\"dataframe\">\n",
       "  <thead>\n",
       "    <tr style=\"text-align: right;\">\n",
       "      <th></th>\n",
       "      <th>Unnamed: 0</th>\n",
       "      <th>Medel- folkmängd</th>\n",
       "      <th>Födda</th>\n",
       "      <th>Döda</th>\n",
       "      <th>Naturlig befolkningsförändring</th>\n",
       "      <th>Nativitet (per 1000)</th>\n",
       "      <th>Dödstal (per 1000)</th>\n",
       "      <th>Naturlig befolkningsförändring (per 1000)</th>\n",
       "      <th>Total fertilitet</th>\n",
       "    </tr>\n",
       "  </thead>\n",
       "  <tbody>\n",
       "    <tr>\n",
       "      <th>0</th>\n",
       "      <td>1900</td>\n",
       "      <td>5117000.0</td>\n",
       "      <td>138139</td>\n",
       "      <td>86146</td>\n",
       "      <td>51993</td>\n",
       "      <td>27.0</td>\n",
       "      <td>16.8</td>\n",
       "      <td>10.2</td>\n",
       "      <td>4.02</td>\n",
       "    </tr>\n",
       "    <tr>\n",
       "      <th>1</th>\n",
       "      <td>1901</td>\n",
       "      <td>5156000.0</td>\n",
       "      <td>139370</td>\n",
       "      <td>82772</td>\n",
       "      <td>56598</td>\n",
       "      <td>27.0</td>\n",
       "      <td>16.1</td>\n",
       "      <td>11.0</td>\n",
       "      <td>4.04</td>\n",
       "    </tr>\n",
       "    <tr>\n",
       "      <th>2</th>\n",
       "      <td>1902</td>\n",
       "      <td>5187000.0</td>\n",
       "      <td>137364</td>\n",
       "      <td>79722</td>\n",
       "      <td>57642</td>\n",
       "      <td>26.5</td>\n",
       "      <td>15.4</td>\n",
       "      <td>11.1</td>\n",
       "      <td>3.95</td>\n",
       "    </tr>\n",
       "    <tr>\n",
       "      <th>3</th>\n",
       "      <td>1903</td>\n",
       "      <td>5210000.0</td>\n",
       "      <td>133896</td>\n",
       "      <td>78610</td>\n",
       "      <td>55286</td>\n",
       "      <td>25.7</td>\n",
       "      <td>15.1</td>\n",
       "      <td>10.6</td>\n",
       "      <td>3.82</td>\n",
       "    </tr>\n",
       "    <tr>\n",
       "      <th>4</th>\n",
       "      <td>1904</td>\n",
       "      <td>5241000.0</td>\n",
       "      <td>134952</td>\n",
       "      <td>80152</td>\n",
       "      <td>54800</td>\n",
       "      <td>25.7</td>\n",
       "      <td>15.3</td>\n",
       "      <td>10.5</td>\n",
       "      <td>3.83</td>\n",
       "    </tr>\n",
       "  </tbody>\n",
       "</table>\n",
       "</div>"
      ],
      "text/plain": [
       "   Unnamed: 0  Medel- folkmängd   Födda   Döda  \\\n",
       "0        1900         5117000.0  138139  86146   \n",
       "1        1901         5156000.0  139370  82772   \n",
       "2        1902         5187000.0  137364  79722   \n",
       "3        1903         5210000.0  133896  78610   \n",
       "4        1904         5241000.0  134952  80152   \n",
       "\n",
       "   Naturlig befolkningsförändring  Nativitet (per 1000)  Dödstal (per 1000)  \\\n",
       "0                           51993                  27.0                16.8   \n",
       "1                           56598                  27.0                16.1   \n",
       "2                           57642                  26.5                15.4   \n",
       "3                           55286                  25.7                15.1   \n",
       "4                           54800                  25.7                15.3   \n",
       "\n",
       "   Naturlig befolkningsförändring (per 1000)  Total fertilitet  \n",
       "0                                       10.2              4.02  \n",
       "1                                       11.0              4.04  \n",
       "2                                       11.1              3.95  \n",
       "3                                       10.6              3.82  \n",
       "4                                       10.5              3.83  "
      ]
     },
     "execution_count": 5,
     "metadata": {},
     "output_type": "execute_result"
    }
   ],
   "source": [
    "df_bef_1900_2021 = bef_1900_2021[0]\n",
    "#[0] match returnerar en lista med 1 DataFrame, så för att få ut den tabeln som DataFrame indikeras första indexet [0] från listan \n",
    "\n",
    "df_bef_1900_2021.head()"
   ]
  },
  {
   "cell_type": "code",
   "execution_count": 6,
   "metadata": {},
   "outputs": [
    {
     "name": "stdout",
     "output_type": "stream",
     "text": [
      "<class 'pandas.core.frame.DataFrame'>\n",
      "RangeIndex: 122 entries, 0 to 121\n",
      "Data columns (total 9 columns):\n",
      " #   Column                                     Non-Null Count  Dtype  \n",
      "---  ------                                     --------------  -----  \n",
      " 0   Unnamed: 0                                 122 non-null    int64  \n",
      " 1   Medel- folkmängd                           122 non-null    float64\n",
      " 2   Födda                                      122 non-null    int64  \n",
      " 3   Döda                                       122 non-null    int64  \n",
      " 4   Naturlig befolkningsförändring             122 non-null    int64  \n",
      " 5   Nativitet (per 1000)                       122 non-null    float64\n",
      " 6   Dödstal (per 1000)                         122 non-null    float64\n",
      " 7   Naturlig befolkningsförändring (per 1000)  122 non-null    float64\n",
      " 8   Total fertilitet                           121 non-null    float64\n",
      "dtypes: float64(5), int64(4)\n",
      "memory usage: 8.7 KB\n"
     ]
    }
   ],
   "source": [
    "df_bef_1900_2021.info()\n",
    "# numeriska värden i alla kolumner"
   ]
  },
  {
   "cell_type": "markdown",
   "metadata": {},
   "source": [
    "# b)"
   ]
  },
  {
   "cell_type": "code",
   "execution_count": 7,
   "metadata": {},
   "outputs": [
    {
     "data": {
      "text/html": [
       "<div>\n",
       "<style scoped>\n",
       "    .dataframe tbody tr th:only-of-type {\n",
       "        vertical-align: middle;\n",
       "    }\n",
       "\n",
       "    .dataframe tbody tr th {\n",
       "        vertical-align: top;\n",
       "    }\n",
       "\n",
       "    .dataframe thead th {\n",
       "        text-align: right;\n",
       "    }\n",
       "</style>\n",
       "<table border=\"1\" class=\"dataframe\">\n",
       "  <thead>\n",
       "    <tr style=\"text-align: right;\">\n",
       "      <th></th>\n",
       "      <th>År</th>\n",
       "      <th>Medel- folkmängd</th>\n",
       "      <th>Födda</th>\n",
       "      <th>Döda</th>\n",
       "      <th>Naturlig befolkningsförändring</th>\n",
       "      <th>Nativitet (per 1000)</th>\n",
       "      <th>Dödstal (per 1000)</th>\n",
       "      <th>Naturlig befolkningsförändring (per 1000)</th>\n",
       "      <th>Total fertilitet</th>\n",
       "    </tr>\n",
       "  </thead>\n",
       "  <tbody>\n",
       "    <tr>\n",
       "      <th>0</th>\n",
       "      <td>1900</td>\n",
       "      <td>5117000.0</td>\n",
       "      <td>138139</td>\n",
       "      <td>86146</td>\n",
       "      <td>51993</td>\n",
       "      <td>27.0</td>\n",
       "      <td>16.8</td>\n",
       "      <td>10.2</td>\n",
       "      <td>4.02</td>\n",
       "    </tr>\n",
       "    <tr>\n",
       "      <th>1</th>\n",
       "      <td>1901</td>\n",
       "      <td>5156000.0</td>\n",
       "      <td>139370</td>\n",
       "      <td>82772</td>\n",
       "      <td>56598</td>\n",
       "      <td>27.0</td>\n",
       "      <td>16.1</td>\n",
       "      <td>11.0</td>\n",
       "      <td>4.04</td>\n",
       "    </tr>\n",
       "    <tr>\n",
       "      <th>2</th>\n",
       "      <td>1902</td>\n",
       "      <td>5187000.0</td>\n",
       "      <td>137364</td>\n",
       "      <td>79722</td>\n",
       "      <td>57642</td>\n",
       "      <td>26.5</td>\n",
       "      <td>15.4</td>\n",
       "      <td>11.1</td>\n",
       "      <td>3.95</td>\n",
       "    </tr>\n",
       "    <tr>\n",
       "      <th>3</th>\n",
       "      <td>1903</td>\n",
       "      <td>5210000.0</td>\n",
       "      <td>133896</td>\n",
       "      <td>78610</td>\n",
       "      <td>55286</td>\n",
       "      <td>25.7</td>\n",
       "      <td>15.1</td>\n",
       "      <td>10.6</td>\n",
       "      <td>3.82</td>\n",
       "    </tr>\n",
       "    <tr>\n",
       "      <th>4</th>\n",
       "      <td>1904</td>\n",
       "      <td>5241000.0</td>\n",
       "      <td>134952</td>\n",
       "      <td>80152</td>\n",
       "      <td>54800</td>\n",
       "      <td>25.7</td>\n",
       "      <td>15.3</td>\n",
       "      <td>10.5</td>\n",
       "      <td>3.83</td>\n",
       "    </tr>\n",
       "  </tbody>\n",
       "</table>\n",
       "</div>"
      ],
      "text/plain": [
       "     År  Medel- folkmängd   Födda   Döda  Naturlig befolkningsförändring  \\\n",
       "0  1900         5117000.0  138139  86146                           51993   \n",
       "1  1901         5156000.0  139370  82772                           56598   \n",
       "2  1902         5187000.0  137364  79722                           57642   \n",
       "3  1903         5210000.0  133896  78610                           55286   \n",
       "4  1904         5241000.0  134952  80152                           54800   \n",
       "\n",
       "   Nativitet (per 1000)  Dödstal (per 1000)  \\\n",
       "0                  27.0                16.8   \n",
       "1                  27.0                16.1   \n",
       "2                  26.5                15.4   \n",
       "3                  25.7                15.1   \n",
       "4                  25.7                15.3   \n",
       "\n",
       "   Naturlig befolkningsförändring (per 1000)  Total fertilitet  \n",
       "0                                       10.2              4.02  \n",
       "1                                       11.0              4.04  \n",
       "2                                       11.1              3.95  \n",
       "3                                       10.6              3.82  \n",
       "4                                       10.5              3.83  "
      ]
     },
     "execution_count": 7,
     "metadata": {},
     "output_type": "execute_result"
    }
   ],
   "source": [
    "df_bef_1900_2021.rename(columns={\"Unnamed: 0\": \"År\"}, inplace=True)\n",
    "df_bef_1900_2021.head()"
   ]
  },
  {
   "cell_type": "code",
   "execution_count": 50,
   "metadata": {},
   "outputs": [
    {
     "data": {
      "text/plain": [
       "<AxesSubplot: xlabel='År', ylabel='Medel- folkmängd'>"
      ]
     },
     "execution_count": 50,
     "metadata": {},
     "output_type": "execute_result"
    },
    {
     "data": {
      "image/png": "[encoded data removed]",
      "text/plain": [
       "<Figure size 640x480 with 1 Axes>"
      ]
     },
     "metadata": {},
     "output_type": "display_data"
    }
   ],
   "source": [
    "sns.lineplot(data=df_bef_1900_2021, x=\"År\", y=\"Medel- folkmängd\")"
   ]
  },
  {
   "cell_type": "code",
   "execution_count": null,
   "metadata": {},
   "outputs": [],
   "source": [
    "# b) Choose to do some EDA (exploratory data analysis) on this dataset. And draw some relevant graphs."
   ]
  },
  {
   "cell_type": "markdown",
   "metadata": {},
   "source": [
    "# c)"
   ]
  },
  {
   "cell_type": "code",
   "execution_count": 49,
   "metadata": {},
   "outputs": [
    {
     "name": "stdout",
     "output_type": "stream",
     "text": [
      "<class 'pandas.core.frame.DataFrame'>\n",
      "RangeIndex: 7 entries, 0 to 6\n",
      "Data columns (total 2 columns):\n",
      " #   Column     Non-Null Count  Dtype\n",
      "---  ------     --------------  -----\n",
      " 0   År         7 non-null      int32\n",
      " 1   Folkmängd  7 non-null      int32\n",
      "dtypes: int32(2)\n",
      "memory usage: 184.0 bytes\n"
     ]
    }
   ],
   "source": [
    "df_bef_1570_1865 = pd.read_html(\n",
    "    \"https://sv.wikipedia.org/wiki/Sveriges_demografi\",\n",
    "    match=\"Vid utgången av år\",\n",
    "    decimal=\",\",\n",
    "    thousands=\"\\xa0\", #Pandas översätter till unicode så därför \\xa0 vilket är översättning på &nbsp; som fanns på hemsidan\n",
    "    header=[1]\n",
    ")[0]\n",
    "\n",
    "df_bef_1570_1865.drop(df_bef_1570_1865.tail(4).index, inplace=True)\n",
    "df_bef_1570_1865.drop(columns=df_bef_1570_1865.columns[-2:], inplace=True)\n",
    "df_bef_1570_1865.rename(columns={\"Vid utgången av år\": \"År\"}, inplace=True)\n",
    "df_bef_1570_1865 = df_bef_1570_1865.astype(int)\n",
    "df_bef_1570_1865.info()\n",
    "\n",
    "\n",
    "# För Folkmängd funkar ej att ange thousands = \" \", då html filen har 900 000 som 900&nbsp;000\n",
    "# thousands = \"&nbsp;\" funkar ej då Pandas översätter till unicode så därför \\xa0 vilket är översättning på &nbsp; som fanns på hemsidan\n",
    "\n",
    "#??????????? varför blir årtalet object och inte int?????????????? Görs manuellt om till int mha astype\n"
   ]
  }
 ],
 "metadata": {
  "kernelspec": {
   "display_name": "Python 3.9.13 ('Databehandling-Dorota-Bjoorn-jxKP5yN8')",
   "language": "python",
   "name": "python3"
  },
  "language_info": {
   "codemirror_mode": {
    "name": "ipython",
    "version": 3
   },
   "file_extension": ".py",
   "mimetype": "text/x-python",
   "name": "python",
   "nbconvert_exporter": "python",
   "pygments_lexer": "ipython3",
   "version": "3.9.13"
  },
  "orig_nbformat": 4,
  "vscode": {
   "interpreter": {
    "hash": "3bcad62de4ced59432ab76a1ab7a518764b5efaffdc10b6bc78c6b8e3bf69931"
   }
  }
 },
 "nbformat": 4,
 "nbformat_minor": 2
}
